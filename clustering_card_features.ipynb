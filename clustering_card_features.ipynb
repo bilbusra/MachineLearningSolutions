{
  "nbformat": 4,
  "nbformat_minor": 0,
  "metadata": {
    "colab": {
      "name": "Untitled14.ipynb",
      "provenance": []
    },
    "kernelspec": {
      "name": "python3",
      "display_name": "Python 3"
    }
  },
  "cells": [
    {
      "cell_type": "code",
      "metadata": {
        "id": "qXdoF221NZJL"
      },
      "source": [
        "from pydrive.auth import GoogleAuth\n",
        "from pydrive.drive import GoogleDrive\n",
        "from google.colab import auth\n",
        "from oauth2client.client import GoogleCredentials"
      ],
      "execution_count": null,
      "outputs": []
    },
    {
      "cell_type": "code",
      "metadata": {
        "id": "699YvBeIhnTL"
      },
      "source": [
        "auth.authenticate_user()\n",
        "gauth = GoogleAuth()\n",
        "gauth.credentials = GoogleCredentials.get_application_default()\n",
        "\n",
        "drive = GoogleDrive(gauth)"
      ],
      "execution_count": null,
      "outputs": []
    },
    {
      "cell_type": "code",
      "metadata": {
        "id": "tAx1Ml7fWYCc"
      },
      "source": [
        "download1 = drive.CreateFile({'id': 'xxx'})\n",
        "download1.GetContentFile('transcations_with_label.csv')"
      ],
      "execution_count": null,
      "outputs": []
    },
    {
      "cell_type": "code",
      "metadata": {
        "id": "VLROlfoMkBT6"
      },
      "source": [
        "import os\n",
        "import pandas as pd\n",
        "import io\n",
        "import datetime\n",
        "import numpy as np\n",
        "from matplotlib import pyplot\n",
        "import matplotlib.pylab as plt\n",
        "import seaborn as sns"
      ],
      "execution_count": null,
      "outputs": []
    },
    {
      "cell_type": "code",
      "metadata": {
        "id": "aYa8AUKnMsRp"
      },
      "source": [
        "transcations = pd.read_csv('all_transaction_features.csv', low_memory = False,sep=';')"
      ],
      "execution_count": null,
      "outputs": []
    },
    {
      "cell_type": "code",
      "metadata": {
        "id": "lap9JNkXqlay",
        "colab": {
          "base_uri": "https://localhost:8080/",
          "height": 354
        },
        "outputId": "ca4fcff4-923f-4edd-f78e-0198014b03f2"
      },
      "source": [
        "!pip install hdbscan"
      ],
      "execution_count": null,
      "outputs": [
        {
          "output_type": "stream",
          "text": [
            "Collecting hdbscan\n",
            "\u001b[?25l  Downloading https://files.pythonhosted.org/packages/22/2f/2423d844072f007a74214c1adc46260e45f034bb1679ccadfbb8a601f647/hdbscan-0.8.26.tar.gz (4.7MB)\n",
            "\u001b[K     |████████████████████████████████| 4.7MB 4.1MB/s \n",
            "\u001b[?25h  Installing build dependencies ... \u001b[?25l\u001b[?25hdone\n",
            "  Getting requirements to build wheel ... \u001b[?25l\u001b[?25hdone\n",
            "    Preparing wheel metadata ... \u001b[?25l\u001b[?25hdone\n",
            "Requirement already satisfied: numpy>=1.16.0 in /usr/local/lib/python3.6/dist-packages (from hdbscan) (1.18.5)\n",
            "Requirement already satisfied: scikit-learn>=0.17 in /usr/local/lib/python3.6/dist-packages (from hdbscan) (0.22.2.post1)\n",
            "Requirement already satisfied: six in /usr/local/lib/python3.6/dist-packages (from hdbscan) (1.15.0)\n",
            "Requirement already satisfied: cython>=0.27 in /usr/local/lib/python3.6/dist-packages (from hdbscan) (0.29.21)\n",
            "Requirement already satisfied: scipy>=0.9 in /usr/local/lib/python3.6/dist-packages (from hdbscan) (1.4.1)\n",
            "Requirement already satisfied: joblib in /usr/local/lib/python3.6/dist-packages (from hdbscan) (0.16.0)\n",
            "Building wheels for collected packages: hdbscan\n",
            "  Building wheel for hdbscan (PEP 517) ... \u001b[?25l\u001b[?25hdone\n",
            "  Created wheel for hdbscan: filename=hdbscan-0.8.26-cp36-cp36m-linux_x86_64.whl size=2305900 sha256=15d9df7c9d7edf2e90b6fe76c6fb6801ef9e305c62521e2d6fd956cdfd3351ad\n",
            "  Stored in directory: /root/.cache/pip/wheels/82/38/41/372f034d8abd271ef7787a681e0a47fc05d472683a7eb088ed\n",
            "Successfully built hdbscan\n",
            "Installing collected packages: hdbscan\n",
            "Successfully installed hdbscan-0.8.26\n"
          ],
          "name": "stdout"
        }
      ]
    },
    {
      "cell_type": "code",
      "metadata": {
        "id": "7hv8nDnRqg08"
      },
      "source": [
        "import hdbscan"
      ],
      "execution_count": null,
      "outputs": []
    },
    {
      "cell_type": "code",
      "metadata": {
        "id": "QiCOJlS_kLTn"
      },
      "source": [
        "from sklearn.cluster import DBSCAN\n",
        "from sklearn.preprocessing import StandardScaler "
      ],
      "execution_count": null,
      "outputs": []
    },
    {
      "cell_type": "code",
      "metadata": {
        "id": "XJPnjelgkPW3"
      },
      "source": [
        "scaled_transactions = transcations[['txn_amount_over_month', 'average_daily_over_month',\n",
        "       'average_over_3_months', 'amount_same_day', 'number_same_day',\n",
        "       'amount_merchant_type_over_3_month', 'amount_merchant_type_over_month',\n",
        "       'number_merchant_type_over_month', 'amount_merchant_over_month',\n",
        "       'number_merchant_over_month', 'amount_merchant_over_3_month',\n",
        "       'number_merchant_over_3_month']]"
      ],
      "execution_count": null,
      "outputs": []
    },
    {
      "cell_type": "code",
      "metadata": {
        "id": "6OJP9cIxkfzn"
      },
      "source": [
        "scaler = StandardScaler() "
      ],
      "execution_count": null,
      "outputs": []
    },
    {
      "cell_type": "code",
      "metadata": {
        "id": "jnlfw7_gkcdi",
        "colab": {
          "base_uri": "https://localhost:8080/",
          "height": 304
        },
        "outputId": "43f70b77-99c9-4c5a-ad6c-c6c9582f67a1"
      },
      "source": [
        "scaled_transactions[['txn_amount_over_month', 'average_daily_over_month',\n",
        "       'average_over_3_months', 'amount_same_day', 'number_same_day',\n",
        "       'amount_merchant_type_over_3_month', 'amount_merchant_type_over_month',\n",
        "       'number_merchant_type_over_month', 'amount_merchant_over_month',\n",
        "       'number_merchant_over_month', 'amount_merchant_over_3_month',\n",
        "       'number_merchant_over_3_month']] = scaler.fit_transform(scaled_transactions[['txn_amount_over_month', 'average_daily_over_month',\n",
        "       'average_over_3_months', 'amount_same_day', 'number_same_day',\n",
        "       'amount_merchant_type_over_3_month', 'amount_merchant_type_over_month',\n",
        "       'number_merchant_type_over_month', 'amount_merchant_over_month',\n",
        "       'number_merchant_over_month', 'amount_merchant_over_3_month',\n",
        "       'number_merchant_over_3_month']])"
      ],
      "execution_count": null,
      "outputs": [
        {
          "output_type": "stream",
          "text": [
            "/usr/local/lib/python3.6/dist-packages/ipykernel_launcher.py:11: SettingWithCopyWarning: \n",
            "A value is trying to be set on a copy of a slice from a DataFrame.\n",
            "Try using .loc[row_indexer,col_indexer] = value instead\n",
            "\n",
            "See the caveats in the documentation: https://pandas.pydata.org/pandas-docs/stable/user_guide/indexing.html#returning-a-view-versus-a-copy\n",
            "  # This is added back by InteractiveShellApp.init_path()\n",
            "/usr/local/lib/python3.6/dist-packages/pandas/core/frame.py:2969: SettingWithCopyWarning: \n",
            "A value is trying to be set on a copy of a slice from a DataFrame\n",
            "\n",
            "See the caveats in the documentation: https://pandas.pydata.org/pandas-docs/stable/user_guide/indexing.html#returning-a-view-versus-a-copy\n",
            "  self.loc._setitem_with_indexer((slice(None), indexer), value)\n",
            "/usr/local/lib/python3.6/dist-packages/pandas/core/frame.py:2935: SettingWithCopyWarning: \n",
            "A value is trying to be set on a copy of a slice from a DataFrame\n",
            "\n",
            "See the caveats in the documentation: https://pandas.pydata.org/pandas-docs/stable/user_guide/indexing.html#returning-a-view-versus-a-copy\n",
            "  self._setitem_array(key, value)\n"
          ],
          "name": "stderr"
        }
      ]
    },
    {
      "cell_type": "code",
      "metadata": {
        "id": "Y2PJAP9Mmj4l"
      },
      "source": [
        "from sklearn.cluster import OPTICS,DBSCAN"
      ],
      "execution_count": null,
      "outputs": []
    },
    {
      "cell_type": "code",
      "metadata": {
        "id": "QFDpxpsOrFfD"
      },
      "source": [
        "clusterer = hdbscan.HDBSCAN(min_cluster_size=80,metric='euclidean', core_dist_n_jobs =-1,cluster_selection_epsilon=0.5)"
      ],
      "execution_count": null,
      "outputs": []
    },
    {
      "cell_type": "code",
      "metadata": {
        "id": "EPuAuyTOrDIq"
      },
      "source": [
        "cluster_labels = clusterer.fit_predict(scaled_transactions)"
      ],
      "execution_count": null,
      "outputs": []
    },
    {
      "cell_type": "code",
      "metadata": {
        "id": "mWnjbi30_loC"
      },
      "source": [
        "#clusterer.single_linkage_tree_.plot()"
      ],
      "execution_count": null,
      "outputs": []
    },
    {
      "cell_type": "code",
      "metadata": {
        "id": "Kz9bFrIV_GL_",
        "colab": {
          "base_uri": "https://localhost:8080/",
          "height": 33
        },
        "outputId": "0c63a40f-0d70-41df-8af8-9735babd1a22"
      },
      "source": [
        "cluster_labels"
      ],
      "execution_count": null,
      "outputs": [
        {
          "output_type": "execute_result",
          "data": {
            "text/plain": [
              "array([35, 35, 35, ..., 35, 35, 35])"
            ]
          },
          "metadata": {
            "tags": []
          },
          "execution_count": 30
        }
      ]
    },
    {
      "cell_type": "code",
      "metadata": {
        "id": "vGANlh54DpuU"
      },
      "source": [
        "transcations['clustering_labels'] = cluster_labels"
      ],
      "execution_count": null,
      "outputs": []
    },
    {
      "cell_type": "code",
      "metadata": {
        "id": "tesrNw1sc0Uo"
      },
      "source": [
        "transcations.to_csv('transcations_with_label.csv',sep=';')"
      ],
      "execution_count": null,
      "outputs": []
    },
    {
      "cell_type": "code",
      "metadata": {
        "id": "voV7nFSsVeQC",
        "colab": {
          "base_uri": "https://localhost:8080/",
          "height": 33
        },
        "outputId": "72d0f410-18d0-4d13-c6f8-ee00f7960225"
      },
      "source": [
        "#np.unique(cluster_labels).shape"
      ],
      "execution_count": null,
      "outputs": [
        {
          "output_type": "execute_result",
          "data": {
            "text/plain": [
              "(37,)"
            ]
          },
          "metadata": {
            "tags": []
          },
          "execution_count": 31
        }
      ]
    },
    {
      "cell_type": "code",
      "metadata": {
        "id": "4KIgRa67fhbd"
      },
      "source": [
        "#from sklearn.neighbors import NearestNeighbors"
      ],
      "execution_count": null,
      "outputs": []
    },
    {
      "cell_type": "code",
      "metadata": {
        "id": "DQeSub80fgA_"
      },
      "source": [
        "#neigh = NearestNeighbors(n_neighbors=4)\n",
        "#nbrs = neigh.fit(scaled_transactions)\n",
        "#distances, indices = nbrs.kneighbors(scaled_transactions)"
      ],
      "execution_count": null,
      "outputs": []
    },
    {
      "cell_type": "code",
      "metadata": {
        "id": "27P8ts4mpjas"
      },
      "source": [
        "#distances = np.sort(distances, axis=0)"
      ],
      "execution_count": null,
      "outputs": []
    },
    {
      "cell_type": "code",
      "metadata": {
        "id": "JFSxEQwIivkC"
      },
      "source": [
        "np.unique(distances[:,1])\n",
        "indices.shape\n",
        "distances = np.sort(distances, axis=0)\n",
        "plt.xlim(0, 140)\n",
        "plt.plot(distances)\n",
        "clustering = DBSCAN(min_samples=20,eps = 0.1,metric='euclidean',n_jobs=-1).fit(scaled_transactions)\n",
        "clustering = OPTICS(min_samples=5,eps = 0.05,metric='euclidean',n_jobs=-1,cluster_method='dbscan').fit(scaled_transactions)\n",
        "from sklearn.cluster import KMeans \n",
        "cost =[] \n",
        "for i in range(1, 200): \n",
        "    KM = KMeans(n_clusters = i) \n",
        "    KM.fit(scaled_transactions) \n",
        "      \n",
        "    # calculates squared error \n",
        "    # for the clustered points \n",
        "    cost.append(KM.inertia_)  \n",
        "plt.plot(range(1,200), cost, color ='g', linewidth ='3') \n",
        "plt.xlabel(\"Value of K\") \n",
        "plt.ylabel(\"Sqaured Error (Cost)\") \n",
        "plt.show() # clear the plot \n",
        "scaled_transactions\n",
        "clustering = DBSCAN(min_samples=5,eps = 0.05,metric='euclidean',n_jobs=-1).fit(scaled_transactions)\n",
        "results = clustering.labels_\n",
        "transcations['clustering_labels'] = results"
      ],
      "execution_count": null,
      "outputs": []
    },
    {
      "cell_type": "code",
      "metadata": {
        "id": "5MdUuIyuk6xn"
      },
      "source": [
        ""
      ],
      "execution_count": null,
      "outputs": []
    }
  ]
}