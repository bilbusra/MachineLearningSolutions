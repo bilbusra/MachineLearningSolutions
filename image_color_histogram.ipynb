{
  "nbformat": 4,
  "nbformat_minor": 0,
  "metadata": {
    "colab": {
      "name": "Untitled17.ipynb",
      "provenance": []
    },
    "kernelspec": {
      "name": "python3",
      "display_name": "Python 3"
    }
  },
  "cells": [
    {
      "cell_type": "code",
      "metadata": {
        "id": "_du08AUg57qN"
      },
      "source": [
        "import cv2\n",
        "import numpy as np\n",
        "from matplotlib import pyplot as plt"
      ],
      "execution_count": null,
      "outputs": []
    },
    {
      "cell_type": "code",
      "metadata": {
        "colab": {
          "base_uri": "https://localhost:8080/",
          "height": 214
        },
        "id": "kinevoaj6DcT",
        "outputId": "8e34a02e-8236-4d82-e5c2-b0e78b48c5e1"
      },
      "source": [
        "hist = cv2.calcHist(np.array([[4, 3, 2, 1, 2],\n",
        "[7, 4, 7, 6, 9],\n",
        "[1,\t10,\t8,\t7,\t8],\n",
        "[2,\t3,\t4,\t6,\t5],\n",
        "[2,\t2\t,3,\t4\t,5],\n",
        "[1,\t3,\t2\t,3,\t4]\n",
        "]))"
      ],
      "execution_count": null,
      "outputs": [
        {
          "output_type": "error",
          "ename": "TypeError",
          "evalue": "ignored",
          "traceback": [
            "\u001b[0;31m---------------------------------------------------------------------------\u001b[0m",
            "\u001b[0;31mTypeError\u001b[0m                                 Traceback (most recent call last)",
            "\u001b[0;32m<ipython-input-18-f4a37f6264af>\u001b[0m in \u001b[0;36m<module>\u001b[0;34m()\u001b[0m\n\u001b[1;32m      4\u001b[0m \u001b[0;34m[\u001b[0m\u001b[0;36m2\u001b[0m\u001b[0;34m,\u001b[0m     \u001b[0;36m3\u001b[0m\u001b[0;34m,\u001b[0m      \u001b[0;36m4\u001b[0m\u001b[0;34m,\u001b[0m      \u001b[0;36m6\u001b[0m\u001b[0;34m,\u001b[0m      \u001b[0;36m5\u001b[0m\u001b[0;34m]\u001b[0m\u001b[0;34m,\u001b[0m\u001b[0;34m\u001b[0m\u001b[0;34m\u001b[0m\u001b[0m\n\u001b[1;32m      5\u001b[0m \u001b[0;34m[\u001b[0m\u001b[0;36m2\u001b[0m\u001b[0;34m,\u001b[0m     \u001b[0;36m2\u001b[0m       \u001b[0;34m,\u001b[0m\u001b[0;36m3\u001b[0m\u001b[0;34m,\u001b[0m     \u001b[0;36m4\u001b[0m       \u001b[0;34m,\u001b[0m\u001b[0;36m5\u001b[0m\u001b[0;34m]\u001b[0m\u001b[0;34m,\u001b[0m\u001b[0;34m\u001b[0m\u001b[0;34m\u001b[0m\u001b[0m\n\u001b[0;32m----> 6\u001b[0;31m \u001b[0;34m[\u001b[0m\u001b[0;36m1\u001b[0m\u001b[0;34m,\u001b[0m     \u001b[0;36m3\u001b[0m\u001b[0;34m,\u001b[0m      \u001b[0;36m2\u001b[0m       \u001b[0;34m,\u001b[0m\u001b[0;36m3\u001b[0m\u001b[0;34m,\u001b[0m     \u001b[0;36m4\u001b[0m\u001b[0;34m]\u001b[0m\u001b[0;34m\u001b[0m\u001b[0;34m\u001b[0m\u001b[0m\n\u001b[0m\u001b[1;32m      7\u001b[0m ]))\n",
            "\u001b[0;31mTypeError\u001b[0m: Required argument 'channels' (pos 2) not found"
          ]
        }
      ]
    },
    {
      "cell_type": "code",
      "metadata": {
        "colab": {
          "base_uri": "https://localhost:8080/",
          "height": 282
        },
        "id": "vhm6XVkn9MRS",
        "outputId": "f013904a-a2fd-4b5f-a0e4-23e067f7bc14"
      },
      "source": [
        "plt.imshow(np.array([[4, 3, 2, 1, 2],\n",
        "[7, 4, 7, 6, 9],\n",
        "[1,\t10,\t8,\t7,\t8],\n",
        "[2,\t3,\t4,\t6,\t5],\n",
        "[2,\t2\t,3,\t4\t,5],\n",
        "[1,\t3,\t2\t,3,\t4]\n",
        "]))"
      ],
      "execution_count": null,
      "outputs": [
        {
          "output_type": "execute_result",
          "data": {
            "text/plain": [
              "<matplotlib.image.AxesImage at 0x7f6c093bd3c8>"
            ]
          },
          "metadata": {
            "tags": []
          },
          "execution_count": 19
        },
        {
          "output_type": "display_data",
          "data": {
            "image/png": "[encoded data removed]",
            "text/plain": [
              "<Figure size 432x288 with 1 Axes>"
            ]
          },
          "metadata": {
            "tags": [],
            "needs_background": "light"
          }
        }
      ]
    },
    {
      "cell_type": "code",
      "metadata": {
        "id": "xycMOCOK-EB1"
      },
      "source": [
        "im = np.array([[4, 3, 2, 1, 2],\n",
        "[7, 4, 7, 6, 9],\n",
        "[1,\t10,\t8,\t7,\t8],\n",
        "[2,\t3,\t4,\t6,\t5],\n",
        "[2,\t2\t,3,\t4\t,5],\n",
        "[1,\t3,\t2\t,3,\t4]\n",
        "])\n",
        "# calculate mean value from RGB channels and flatten to 1D array\n",
        "# calculate histogram\n",
        "counts, bins = np.histogram(vals.ravel(), range(257))\n",
        "# plot histogram centered on values 0..255\n",
        "plt.bar(bins[:-1] - 0.5, counts, width=1, edgecolor='none')\n",
        "plt.xlim([-0.5, 255.5])\n",
        "plt.show()"
      ],
      "execution_count": null,
      "outputs": []
    },
    {
      "cell_type": "code",
      "metadata": {
        "id": "_sgekXAtAIzr"
      },
      "source": [
        "from PIL import Image"
      ],
      "execution_count": null,
      "outputs": []
    },
    {
      "cell_type": "code",
      "metadata": {
        "id": "s6Cqo6RmAKfm"
      },
      "source": [
        "img = Image.fromarray(np.array([[4, 3, 2, 1, 2],\n",
        "[7, 4, 7, 6, 9],\n",
        "[1,\t10,\t8,\t7,\t8],\n",
        "[2,\t3,\t4,\t6,\t5],\n",
        "[2,\t2\t,3,\t4\t,5],\n",
        "[1,\t3,\t2\t,3,\t4]\n",
        "]), 'RGB')\n",
        "img.save('test.png')"
      ],
      "execution_count": null,
      "outputs": []
    },
    {
      "cell_type": "code",
      "metadata": {
        "colab": {
          "base_uri": "https://localhost:8080/"
        },
        "id": "Od6N3FDeAWs8",
        "outputId": "3bc197cb-e99e-47d3-a8b0-45c6ec576ffc"
      },
      "source": [
        "img.size"
      ],
      "execution_count": null,
      "outputs": [
        {
          "output_type": "execute_result",
          "data": {
            "text/plain": [
              "(5, 6)"
            ]
          },
          "metadata": {
            "tags": []
          },
          "execution_count": 27
        }
      ]
    },
    {
      "cell_type": "code",
      "metadata": {
        "colab": {
          "base_uri": "https://localhost:8080/",
          "height": 265
        },
        "id": "axbHrk9kBufU",
        "outputId": "251c9c39-a530-4a6e-a164-2133f02ef126"
      },
      "source": [
        "histr = cv2.calcHist([img],[0],None,[10],[0,10])\n",
        "plt.plot(histr) \n",
        "plt.show()"
      ],
      "execution_count": null,
      "outputs": [
        {
          "output_type": "display_data",
          "data": {
            "image/png": "[encoded data removed]",
            "text/plain": [
              "<Figure size 432x288 with 1 Axes>"
            ]
          },
          "metadata": {
            "tags": [],
            "needs_background": "light"
          }
        }
      ]
    },
    {
      "cell_type": "code",
      "metadata": {
        "colab": {
          "base_uri": "https://localhost:8080/",
          "height": 265
        },
        "id": "0_VUg-KTApY5",
        "outputId": "ea38f6e5-5d1a-417f-cb64-008917dc9eac"
      },
      "source": [
        "img = cv2.imread('test.png',0)\n",
        "plt.hist(img,10,[0,10]); plt.show()"
      ],
      "execution_count": null,
      "outputs": [
        {
          "output_type": "display_data",
          "data": {
            "image/png": "[encoded data removed]",
            "text/plain": [
              "<Figure size 432x288 with 1 Axes>"
            ]
          },
          "metadata": {
            "tags": [],
            "needs_background": "light"
          }
        }
      ]
    },
    {
      "cell_type": "code",
      "metadata": {
        "colab": {
          "base_uri": "https://localhost:8080/",
          "height": 248
        },
        "id": "j-ryvgcf_YdH",
        "outputId": "b7ce0250-8e35-42ed-d9b3-10303a1f3eea"
      },
      "source": [
        "import cv2\n",
        "import numpy as np\n",
        "from matplotlib import pyplot as plt\n",
        "\n",
        "hist = cv2.calcHist(np.array([[4, 3, 2, 1, 2],\n",
        "[7, 4, 7, 6, 9],\n",
        "[1,\t10,\t8,\t7,\t8],\n",
        "[2,\t3,\t4,\t6,\t5],\n",
        "[2,\t2\t,3,\t4\t,5],\n",
        "[1,\t3,\t2\t,3,\t4]\n",
        "]),[0],None,[256],[0,256])\n",
        "plt.hist(gray_img.ravel(),256,[0,256])\n",
        "plt.title('Histogram for gray scale picture')\n",
        "plt.show()\n",
        "\n",
        "while True:\n",
        "    k = cv2.waitKey(0) & 0xFF     \n",
        "    if k == 27: break             # ESC key to exit \n",
        "cv2.destroyAllWindows()"
      ],
      "execution_count": null,
      "outputs": [
        {
          "output_type": "error",
          "ename": "error",
          "evalue": "ignored",
          "traceback": [
            "\u001b[0;31m---------------------------------------------------------------------------\u001b[0m",
            "\u001b[0;31merror\u001b[0m                                     Traceback (most recent call last)",
            "\u001b[0;32m<ipython-input-22-9373a1da4980>\u001b[0m in \u001b[0;36m<module>\u001b[0;34m()\u001b[0m\n\u001b[1;32m      9\u001b[0m \u001b[0;34m[\u001b[0m\u001b[0;36m2\u001b[0m\u001b[0;34m,\u001b[0m     \u001b[0;36m2\u001b[0m       \u001b[0;34m,\u001b[0m\u001b[0;36m3\u001b[0m\u001b[0;34m,\u001b[0m     \u001b[0;36m4\u001b[0m       \u001b[0;34m,\u001b[0m\u001b[0;36m5\u001b[0m\u001b[0;34m]\u001b[0m\u001b[0;34m,\u001b[0m\u001b[0;34m\u001b[0m\u001b[0;34m\u001b[0m\u001b[0m\n\u001b[1;32m     10\u001b[0m \u001b[0;34m[\u001b[0m\u001b[0;36m1\u001b[0m\u001b[0;34m,\u001b[0m     \u001b[0;36m3\u001b[0m\u001b[0;34m,\u001b[0m      \u001b[0;36m2\u001b[0m       \u001b[0;34m,\u001b[0m\u001b[0;36m3\u001b[0m\u001b[0;34m,\u001b[0m     \u001b[0;36m4\u001b[0m\u001b[0;34m]\u001b[0m\u001b[0;34m\u001b[0m\u001b[0;34m\u001b[0m\u001b[0m\n\u001b[0;32m---> 11\u001b[0;31m ]),[0],None,[256],[0,256])\n\u001b[0m\u001b[1;32m     12\u001b[0m \u001b[0mplt\u001b[0m\u001b[0;34m.\u001b[0m\u001b[0mhist\u001b[0m\u001b[0;34m(\u001b[0m\u001b[0mgray_img\u001b[0m\u001b[0;34m.\u001b[0m\u001b[0mravel\u001b[0m\u001b[0;34m(\u001b[0m\u001b[0;34m)\u001b[0m\u001b[0;34m,\u001b[0m\u001b[0;36m256\u001b[0m\u001b[0;34m,\u001b[0m\u001b[0;34m[\u001b[0m\u001b[0;36m0\u001b[0m\u001b[0;34m,\u001b[0m\u001b[0;36m256\u001b[0m\u001b[0;34m]\u001b[0m\u001b[0;34m)\u001b[0m\u001b[0;34m\u001b[0m\u001b[0;34m\u001b[0m\u001b[0m\n\u001b[1;32m     13\u001b[0m \u001b[0mplt\u001b[0m\u001b[0;34m.\u001b[0m\u001b[0mtitle\u001b[0m\u001b[0;34m(\u001b[0m\u001b[0;34m'Histogram for gray scale picture'\u001b[0m\u001b[0;34m)\u001b[0m\u001b[0;34m\u001b[0m\u001b[0;34m\u001b[0m\u001b[0m\n",
            "\u001b[0;31merror\u001b[0m: OpenCV(4.1.2) /io/opencv/modules/imgproc/src/histogram.cpp:1003: error: (-210:Unsupported format or combination of formats)  in function 'calcHist'\n"
          ]
        }
      ]
    },
    {
      "cell_type": "code",
      "metadata": {
        "colab": {
          "base_uri": "https://localhost:8080/",
          "height": 1000
        },
        "id": "LNhsHhbE9pYv",
        "outputId": "429c5451-e73d-4ae5-8e54-504b02c2b5c9"
      },
      "source": [
        "plt.hist(np.array([[4, 3, 2, 1, 2],\n",
        "[7, 4, 7, 6, 9],\n",
        "[1,\t10,\t8,\t7,\t8],\n",
        "[2,\t3,\t4,\t6,\t5],\n",
        "[2,\t2\t,3,\t4\t,5],\n",
        "[1,\t3,\t2\t,3,\t4]\n",
        "]).flatten())"
      ],
      "execution_count": null,
      "outputs": [
        {
          "output_type": "execute_result",
          "data": {
            "text/plain": [
              "(array([0., 0., 0., 0., 0., 0., 0., 0., 0., 0., 0., 0., 0., 0., 0., 0., 0.,\n",
              "        0., 0., 0., 0., 0., 0., 0., 0., 0., 0., 0., 0., 0., 0., 0., 0., 0.,\n",
              "        0., 0., 0., 0., 0., 0., 0., 0., 0., 0., 0., 0., 0., 0., 0., 0., 0.,\n",
              "        0., 0., 0., 0., 0., 0., 0., 0., 0., 0., 0., 0., 0., 0., 0., 0., 0.,\n",
              "        0., 0., 0., 0., 0., 0., 0., 0., 0., 0., 0., 0., 0., 0., 0., 0., 0.,\n",
              "        0., 0., 0., 0., 0., 0., 0., 0., 0., 0., 0., 0., 0., 0., 0., 0., 0.,\n",
              "        0., 0., 0., 0., 0., 0., 0., 0., 0., 0., 0., 0., 0., 0., 0., 0., 0.,\n",
              "        0., 0., 0., 0., 0., 0., 0., 0., 0., 0., 0., 0., 0., 0., 0., 0., 0.,\n",
              "        0., 0., 0., 0., 0., 0., 0., 0., 0., 0., 0., 0., 0., 0., 0., 0., 0.,\n",
              "        0., 0., 0., 0., 0., 0., 0., 0., 0., 0., 0., 0., 0., 0., 0., 0., 0.,\n",
              "        0., 0., 0., 0., 0., 0., 0., 0., 0., 0., 0., 0., 0., 0., 0., 0., 0.,\n",
              "        0., 0., 0., 0., 0., 0., 0., 0., 0., 0., 0., 0., 0., 0., 0., 0., 0.,\n",
              "        0., 0., 0., 0., 0., 0., 0., 0., 0., 0., 0., 0., 0., 0., 0., 0., 0.,\n",
              "        0., 0., 0., 0., 0., 0., 0., 0., 0., 0., 0., 0., 0., 0., 0., 0., 0.,\n",
              "        0., 0., 0., 0., 0., 0., 0., 0., 0., 0., 0., 0., 0., 0., 0., 0., 0.,\n",
              "        3.]),\n",
              " array([0.        , 0.00390625, 0.0078125 , 0.01171875, 0.015625  ,\n",
              "        0.01953125, 0.0234375 , 0.02734375, 0.03125   , 0.03515625,\n",
              "        0.0390625 , 0.04296875, 0.046875  , 0.05078125, 0.0546875 ,\n",
              "        0.05859375, 0.0625    , 0.06640625, 0.0703125 , 0.07421875,\n",
              "        0.078125  , 0.08203125, 0.0859375 , 0.08984375, 0.09375   ,\n",
              "        0.09765625, 0.1015625 , 0.10546875, 0.109375  , 0.11328125,\n",
              "        0.1171875 , 0.12109375, 0.125     , 0.12890625, 0.1328125 ,\n",
              "        0.13671875, 0.140625  , 0.14453125, 0.1484375 , 0.15234375,\n",
              "        0.15625   , 0.16015625, 0.1640625 , 0.16796875, 0.171875  ,\n",
              "        0.17578125, 0.1796875 , 0.18359375, 0.1875    , 0.19140625,\n",
              "        0.1953125 , 0.19921875, 0.203125  , 0.20703125, 0.2109375 ,\n",
              "        0.21484375, 0.21875   , 0.22265625, 0.2265625 , 0.23046875,\n",
              "        0.234375  , 0.23828125, 0.2421875 , 0.24609375, 0.25      ,\n",
              "        0.25390625, 0.2578125 , 0.26171875, 0.265625  , 0.26953125,\n",
              "        0.2734375 , 0.27734375, 0.28125   , 0.28515625, 0.2890625 ,\n",
              "        0.29296875, 0.296875  , 0.30078125, 0.3046875 , 0.30859375,\n",
              "        0.3125    , 0.31640625, 0.3203125 , 0.32421875, 0.328125  ,\n",
              "        0.33203125, 0.3359375 , 0.33984375, 0.34375   , 0.34765625,\n",
              "        0.3515625 , 0.35546875, 0.359375  , 0.36328125, 0.3671875 ,\n",
              "        0.37109375, 0.375     , 0.37890625, 0.3828125 , 0.38671875,\n",
              "        0.390625  , 0.39453125, 0.3984375 , 0.40234375, 0.40625   ,\n",
              "        0.41015625, 0.4140625 , 0.41796875, 0.421875  , 0.42578125,\n",
              "        0.4296875 , 0.43359375, 0.4375    , 0.44140625, 0.4453125 ,\n",
              "        0.44921875, 0.453125  , 0.45703125, 0.4609375 , 0.46484375,\n",
              "        0.46875   , 0.47265625, 0.4765625 , 0.48046875, 0.484375  ,\n",
              "        0.48828125, 0.4921875 , 0.49609375, 0.5       , 0.50390625,\n",
              "        0.5078125 , 0.51171875, 0.515625  , 0.51953125, 0.5234375 ,\n",
              "        0.52734375, 0.53125   , 0.53515625, 0.5390625 , 0.54296875,\n",
              "        0.546875  , 0.55078125, 0.5546875 , 0.55859375, 0.5625    ,\n",
              "        0.56640625, 0.5703125 , 0.57421875, 0.578125  , 0.58203125,\n",
              "        0.5859375 , 0.58984375, 0.59375   , 0.59765625, 0.6015625 ,\n",
              "        0.60546875, 0.609375  , 0.61328125, 0.6171875 , 0.62109375,\n",
              "        0.625     , 0.62890625, 0.6328125 , 0.63671875, 0.640625  ,\n",
              "        0.64453125, 0.6484375 , 0.65234375, 0.65625   , 0.66015625,\n",
              "        0.6640625 , 0.66796875, 0.671875  , 0.67578125, 0.6796875 ,\n",
              "        0.68359375, 0.6875    , 0.69140625, 0.6953125 , 0.69921875,\n",
              "        0.703125  , 0.70703125, 0.7109375 , 0.71484375, 0.71875   ,\n",
              "        0.72265625, 0.7265625 , 0.73046875, 0.734375  , 0.73828125,\n",
              "        0.7421875 , 0.74609375, 0.75      , 0.75390625, 0.7578125 ,\n",
              "        0.76171875, 0.765625  , 0.76953125, 0.7734375 , 0.77734375,\n",
              "        0.78125   , 0.78515625, 0.7890625 , 0.79296875, 0.796875  ,\n",
              "        0.80078125, 0.8046875 , 0.80859375, 0.8125    , 0.81640625,\n",
              "        0.8203125 , 0.82421875, 0.828125  , 0.83203125, 0.8359375 ,\n",
              "        0.83984375, 0.84375   , 0.84765625, 0.8515625 , 0.85546875,\n",
              "        0.859375  , 0.86328125, 0.8671875 , 0.87109375, 0.875     ,\n",
              "        0.87890625, 0.8828125 , 0.88671875, 0.890625  , 0.89453125,\n",
              "        0.8984375 , 0.90234375, 0.90625   , 0.91015625, 0.9140625 ,\n",
              "        0.91796875, 0.921875  , 0.92578125, 0.9296875 , 0.93359375,\n",
              "        0.9375    , 0.94140625, 0.9453125 , 0.94921875, 0.953125  ,\n",
              "        0.95703125, 0.9609375 , 0.96484375, 0.96875   , 0.97265625,\n",
              "        0.9765625 , 0.98046875, 0.984375  , 0.98828125, 0.9921875 ,\n",
              "        0.99609375, 1.        ]),\n",
              " <a list of 256 Patch objects>)"
            ]
          },
          "metadata": {
            "tags": []
          },
          "execution_count": 14
        },
        {
          "output_type": "display_data",
          "data": {
            "image/png": "[encoded data removed]",
            "text/plain": [
              "<Figure size 432x288 with 1 Axes>"
            ]
          },
          "metadata": {
            "tags": [],
            "needs_background": "light"
          }
        }
      ]
    },
    {
      "cell_type": "code",
      "metadata": {
        "colab": {
          "base_uri": "https://localhost:8080/",
          "height": 265
        },
        "id": "w7HDz5O08B29",
        "outputId": "c5b8dc7b-800a-4ec8-b43d-c998a2cbefe6"
      },
      "source": [
        "plt.hist(np.array([[4, 3, 2, 1, 2],\n",
        "[7, 4, 7, 6, 9],\n",
        "[1,\t10,\t8,\t7,\t8],\n",
        "[2,\t3,\t4,\t6,\t5],\n",
        "[2,\t2\t,3,\t4\t,5],\n",
        "[1,\t3,\t2\t,3,\t4]\n",
        "]),12,[0,12]); plt.show()"
      ],
      "execution_count": null,
      "outputs": [
        {
          "output_type": "display_data",
          "data": {
            "image/png": "[encoded data removed]",
            "text/plain": [
              "<Figure size 432x288 with 1 Axes>"
            ]
          },
          "metadata": {
            "tags": [],
            "needs_background": "light"
          }
        }
      ]
    }
  ]
}