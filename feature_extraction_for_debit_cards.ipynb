{
  "nbformat": 4,
  "nbformat_minor": 0,
  "metadata": {
    "colab": {
      "name": "Untitled13.ipynb",
      "provenance": []
    },
    "kernelspec": {
      "name": "python3",
      "display_name": "Python 3"
    },
    "accelerator": "GPU"
  },
  "cells": [
    {
      "cell_type": "code",
      "metadata": {
        "id": "6m3Vv8tphWrF",
        "colab": {
          "base_uri": "https://localhost:8080/",
          "height": 266
        },
        "outputId": "a3dfe141-1929-44aa-b2de-2d84eaa6a4ad"
      },
      "source": [
        "!pip install PyDrive"
      ],
      "execution_count": null,
      "outputs": [
        {
          "output_type": "stream",
          "text": [
            "Requirement already satisfied: PyDrive in /usr/local/lib/python3.6/dist-packages (1.3.1)\n",
            "Requirement already satisfied: PyYAML>=3.0 in /usr/local/lib/python3.6/dist-packages (from PyDrive) (3.13)\n",
            "Requirement already satisfied: oauth2client>=4.0.0 in /usr/local/lib/python3.6/dist-packages (from PyDrive) (4.1.3)\n",
            "Requirement already satisfied: google-api-python-client>=1.2 in /usr/local/lib/python3.6/dist-packages (from PyDrive) (1.7.12)\n",
            "Requirement already satisfied: pyasn1-modules>=0.0.5 in /usr/local/lib/python3.6/dist-packages (from oauth2client>=4.0.0->PyDrive) (0.2.8)\n",
            "Requirement already satisfied: rsa>=3.1.4 in /usr/local/lib/python3.6/dist-packages (from oauth2client>=4.0.0->PyDrive) (4.6)\n",
            "Requirement already satisfied: httplib2>=0.9.1 in /usr/local/lib/python3.6/dist-packages (from oauth2client>=4.0.0->PyDrive) (0.17.4)\n",
            "Requirement already satisfied: six>=1.6.1 in /usr/local/lib/python3.6/dist-packages (from oauth2client>=4.0.0->PyDrive) (1.12.0)\n",
            "Requirement already satisfied: pyasn1>=0.1.7 in /usr/local/lib/python3.6/dist-packages (from oauth2client>=4.0.0->PyDrive) (0.4.8)\n",
            "Requirement already satisfied: google-auth-httplib2>=0.0.3 in /usr/local/lib/python3.6/dist-packages (from google-api-python-client>=1.2->PyDrive) (0.0.4)\n",
            "Requirement already satisfied: google-auth>=1.4.1 in /usr/local/lib/python3.6/dist-packages (from google-api-python-client>=1.2->PyDrive) (1.17.2)\n",
            "Requirement already satisfied: uritemplate<4dev,>=3.0.0 in /usr/local/lib/python3.6/dist-packages (from google-api-python-client>=1.2->PyDrive) (3.0.1)\n",
            "Requirement already satisfied: cachetools<5.0,>=2.0.0 in /usr/local/lib/python3.6/dist-packages (from google-auth>=1.4.1->google-api-python-client>=1.2->PyDrive) (4.1.1)\n",
            "Requirement already satisfied: setuptools>=40.3.0 in /usr/local/lib/python3.6/dist-packages (from google-auth>=1.4.1->google-api-python-client>=1.2->PyDrive) (47.3.1)\n"
          ],
          "name": "stdout"
        }
      ]
    },
    {
      "cell_type": "code",
      "metadata": {
        "id": "lp_9pPXuhi97",
        "colab": {
          "base_uri": "https://localhost:8080/",
          "height": 52
        },
        "outputId": "4140b6c3-a722-4108-aff8-15154a174671"
      },
      "source": [
        "import os\n",
        "from pydrive.auth import GoogleAuth\n",
        "from pydrive.drive import GoogleDrive\n",
        "from google.colab import auth\n",
        "from oauth2client.client import GoogleCredentials\n",
        "import pandas as pd\n",
        "import io\n",
        "import datetime\n",
        "import numpy as np\n",
        "from matplotlib import pyplot\n",
        "import matplotlib.pylab as plt\n",
        "import seaborn as sns"
      ],
      "execution_count": null,
      "outputs": [
        {
          "output_type": "stream",
          "text": [
            "/usr/local/lib/python3.6/dist-packages/statsmodels/tools/_testing.py:19: FutureWarning: pandas.util.testing is deprecated. Use the functions in the public API at pandas.testing instead.\n",
            "  import pandas.util.testing as tm\n"
          ],
          "name": "stderr"
        }
      ]
    },
    {
      "cell_type": "code",
      "metadata": {
        "id": "699YvBeIhnTL"
      },
      "source": [
        "auth.authenticate_user()\n",
        "gauth = GoogleAuth()\n",
        "gauth.credentials = GoogleCredentials.get_application_default()\n",
        "\n",
        "drive = GoogleDrive(gauth)"
      ],
      "execution_count": null,
      "outputs": []
    },
    {
      "cell_type": "code",
      "metadata": {
        "id": "uH6vC8vGhvax"
      },
      "source": [
        "download = drive.CreateFile({'id': 'xxxx'})\n",
        "download.GetContentFile('res_purchase_card_(pcard)_fiscal_year_2014_3pcd-aiuu.csv')"
      ],
      "execution_count": null,
      "outputs": []
    },
    {
      "cell_type": "code",
      "metadata": {
        "id": "aLHdXVdnltQp"
      },
      "source": [
        "transcations = pd.read_csv('res_purchase_card_(pcard)_fiscal_year_2014_3pcd-aiuu.csv', low_memory = False)"
      ],
      "execution_count": null,
      "outputs": []
    },
    {
      "cell_type": "code",
      "metadata": {
        "id": "qE42gFrkj26v"
      },
      "source": [
        "transcations['transaction_id'] = transcations.index"
      ],
      "execution_count": null,
      "outputs": []
    },
    {
      "cell_type": "code",
      "metadata": {
        "id": "35F1mB8W-Ew7"
      },
      "source": [
        "transcations['userId'] = transcations['Cardholder First Initial'] + transcations['Cardholder Last Name'] "
      ],
      "execution_count": null,
      "outputs": []
    },
    {
      "cell_type": "code",
      "metadata": {
        "id": "v3SHVYluWS4E",
        "colab": {
          "base_uri": "https://localhost:8080/",
          "height": 260
        },
        "outputId": "68a974ca-595b-426d-e5b0-40deb4fb6b4b"
      },
      "source": [
        "transcations.dtypes"
      ],
      "execution_count": null,
      "outputs": [
        {
          "output_type": "execute_result",
          "data": {
            "text/plain": [
              "Year-Month                        int64\n",
              "Agency Number                     int64\n",
              "Agency Name                      object\n",
              "Cardholder Last Name             object\n",
              "Cardholder First Initial         object\n",
              "Description                      object\n",
              "Amount                          float64\n",
              "Vendor                           object\n",
              "Transaction Date                 object\n",
              "Posted Date                      object\n",
              "Merchant Category Code (MCC)     object\n",
              "transaction_id                    int64\n",
              "userId                           object\n",
              "dtype: object"
            ]
          },
          "metadata": {
            "tags": []
          },
          "execution_count": 17
        }
      ]
    },
    {
      "cell_type": "code",
      "metadata": {
        "id": "ZsFLkGRjqsqT",
        "colab": {
          "base_uri": "https://localhost:8080/",
          "height": 266
        },
        "outputId": "1d2a7c95-d811-4d69-b0b1-ca97940ab0fe"
      },
      "source": [
        "transcations.isnull().sum()"
      ],
      "execution_count": null,
      "outputs": [
        {
          "output_type": "execute_result",
          "data": {
            "text/plain": [
              "Year-Month                      0\n",
              "Agency Number                   0\n",
              "Agency Name                     0\n",
              "Cardholder Last Name            0\n",
              "Cardholder First Initial        0\n",
              "Description                     0\n",
              "Amount                          0\n",
              "Vendor                          0\n",
              "Transaction Date                0\n",
              "Posted Date                     0\n",
              "Merchant Category Code (MCC)    0\n",
              "transaction_id                  0\n",
              "userId                          0\n",
              "dtype: int64"
            ]
          },
          "metadata": {
            "tags": []
          },
          "execution_count": 8
        }
      ]
    },
    {
      "cell_type": "code",
      "metadata": {
        "id": "wQ4sA9DCl5ZT",
        "colab": {
          "base_uri": "https://localhost:8080/",
          "height": 615
        },
        "outputId": "876556f8-3189-4ac5-998f-791989ee4817"
      },
      "source": [
        "transcations"
      ],
      "execution_count": null,
      "outputs": [
        {
          "output_type": "execute_result",
          "data": {
            "text/html": [
              "<div>\n",
              "<style scoped>\n",
              "    .dataframe tbody tr th:only-of-type {\n",
              "        vertical-align: middle;\n",
              "    }\n",
              "\n",
              "    .dataframe tbody tr th {\n",
              "        vertical-align: top;\n",
              "    }\n",
              "\n",
              "    .dataframe thead th {\n",
              "        text-align: right;\n",
              "    }\n",
              "</style>\n",
              "<table border=\"1\" class=\"dataframe\">\n",
              "  <thead>\n",
              "    <tr style=\"text-align: right;\">\n",
              "      <th></th>\n",
              "      <th>Year-Month</th>\n",
              "      <th>Agency Number</th>\n",
              "      <th>Agency Name</th>\n",
              "      <th>Cardholder Last Name</th>\n",
              "      <th>Cardholder First Initial</th>\n",
              "      <th>Description</th>\n",
              "      <th>Amount</th>\n",
              "      <th>Vendor</th>\n",
              "      <th>Transaction Date</th>\n",
              "      <th>Posted Date</th>\n",
              "      <th>Merchant Category Code (MCC)</th>\n",
              "      <th>transaction_id</th>\n",
              "      <th>userId</th>\n",
              "    </tr>\n",
              "  </thead>\n",
              "  <tbody>\n",
              "    <tr>\n",
              "      <th>0</th>\n",
              "      <td>201307</td>\n",
              "      <td>1000</td>\n",
              "      <td>OKLAHOMA STATE UNIVERSITY</td>\n",
              "      <td>Mason</td>\n",
              "      <td>C</td>\n",
              "      <td>GENERAL PURCHASE</td>\n",
              "      <td>890.00</td>\n",
              "      <td>NACAS</td>\n",
              "      <td>07/30/2013 12:00:00 AM</td>\n",
              "      <td>07/31/2013 12:00:00 AM</td>\n",
              "      <td>CHARITABLE AND SOCIAL SERVICE ORGANIZATIONS</td>\n",
              "      <td>0</td>\n",
              "      <td>CMason</td>\n",
              "    </tr>\n",
              "    <tr>\n",
              "      <th>1</th>\n",
              "      <td>201307</td>\n",
              "      <td>1000</td>\n",
              "      <td>OKLAHOMA STATE UNIVERSITY</td>\n",
              "      <td>Mason</td>\n",
              "      <td>C</td>\n",
              "      <td>ROOM CHARGES</td>\n",
              "      <td>368.96</td>\n",
              "      <td>SHERATON HOTEL</td>\n",
              "      <td>07/30/2013 12:00:00 AM</td>\n",
              "      <td>07/31/2013 12:00:00 AM</td>\n",
              "      <td>SHERATON</td>\n",
              "      <td>1</td>\n",
              "      <td>CMason</td>\n",
              "    </tr>\n",
              "    <tr>\n",
              "      <th>2</th>\n",
              "      <td>201307</td>\n",
              "      <td>1000</td>\n",
              "      <td>OKLAHOMA STATE UNIVERSITY</td>\n",
              "      <td>Massey</td>\n",
              "      <td>J</td>\n",
              "      <td>GENERAL PURCHASE</td>\n",
              "      <td>165.82</td>\n",
              "      <td>SEARS.COM 9300</td>\n",
              "      <td>07/29/2013 12:00:00 AM</td>\n",
              "      <td>07/31/2013 12:00:00 AM</td>\n",
              "      <td>DIRCT MARKETING/DIRCT MARKETERS--NOT ELSEWHERE...</td>\n",
              "      <td>2</td>\n",
              "      <td>JMassey</td>\n",
              "    </tr>\n",
              "    <tr>\n",
              "      <th>3</th>\n",
              "      <td>201307</td>\n",
              "      <td>1000</td>\n",
              "      <td>OKLAHOMA STATE UNIVERSITY</td>\n",
              "      <td>Massey</td>\n",
              "      <td>T</td>\n",
              "      <td>GENERAL PURCHASE</td>\n",
              "      <td>96.39</td>\n",
              "      <td>WAL-MART #0137</td>\n",
              "      <td>07/30/2013 12:00:00 AM</td>\n",
              "      <td>07/31/2013 12:00:00 AM</td>\n",
              "      <td>GROCERY STORES,AND SUPERMARKETS</td>\n",
              "      <td>3</td>\n",
              "      <td>TMassey</td>\n",
              "    </tr>\n",
              "    <tr>\n",
              "      <th>4</th>\n",
              "      <td>201307</td>\n",
              "      <td>1000</td>\n",
              "      <td>OKLAHOMA STATE UNIVERSITY</td>\n",
              "      <td>Mauro-Herrera</td>\n",
              "      <td>M</td>\n",
              "      <td>HAMMERMILL COPY PLUS COPY EA</td>\n",
              "      <td>125.96</td>\n",
              "      <td>STAPLES DIRECT</td>\n",
              "      <td>07/30/2013 12:00:00 AM</td>\n",
              "      <td>07/31/2013 12:00:00 AM</td>\n",
              "      <td>STATIONERY, OFFICE SUPPLIES, PRINTING AND WRIT...</td>\n",
              "      <td>4</td>\n",
              "      <td>MMauro-Herrera</td>\n",
              "    </tr>\n",
              "    <tr>\n",
              "      <th>...</th>\n",
              "      <td>...</td>\n",
              "      <td>...</td>\n",
              "      <td>...</td>\n",
              "      <td>...</td>\n",
              "      <td>...</td>\n",
              "      <td>...</td>\n",
              "      <td>...</td>\n",
              "      <td>...</td>\n",
              "      <td>...</td>\n",
              "      <td>...</td>\n",
              "      <td>...</td>\n",
              "      <td>...</td>\n",
              "      <td>...</td>\n",
              "    </tr>\n",
              "    <tr>\n",
              "      <th>442453</th>\n",
              "      <td>201406</td>\n",
              "      <td>98000</td>\n",
              "      <td>GRAND RIVER DAM AUTH.</td>\n",
              "      <td>Cardholder</td>\n",
              "      <td>e</td>\n",
              "      <td>GENERAL PURCHASE</td>\n",
              "      <td>992.00</td>\n",
              "      <td>TOTAL VALVE SYSTEMS</td>\n",
              "      <td>06/20/2014 12:00:00 AM</td>\n",
              "      <td>06/23/2014 12:00:00 AM</td>\n",
              "      <td>HARDWARE EQUIPMENT AND SUPPLIES</td>\n",
              "      <td>442453</td>\n",
              "      <td>eCardholder</td>\n",
              "    </tr>\n",
              "    <tr>\n",
              "      <th>442454</th>\n",
              "      <td>201406</td>\n",
              "      <td>98000</td>\n",
              "      <td>GRAND RIVER DAM AUTH.</td>\n",
              "      <td>Cardholder</td>\n",
              "      <td>e</td>\n",
              "      <td>GENERAL PURCHASE</td>\n",
              "      <td>2415.00</td>\n",
              "      <td>PRYOR WASTE &amp; RECYCLING L</td>\n",
              "      <td>06/20/2014 12:00:00 AM</td>\n",
              "      <td>06/23/2014 12:00:00 AM</td>\n",
              "      <td>UTILITIES - ELECTRIC,GAS,WATER,SANITARY</td>\n",
              "      <td>442454</td>\n",
              "      <td>eCardholder</td>\n",
              "    </tr>\n",
              "    <tr>\n",
              "      <th>442455</th>\n",
              "      <td>201406</td>\n",
              "      <td>98000</td>\n",
              "      <td>GRAND RIVER DAM AUTH.</td>\n",
              "      <td>Cardholder</td>\n",
              "      <td>e</td>\n",
              "      <td>GENERAL PURCHASE</td>\n",
              "      <td>177.50</td>\n",
              "      <td>ACCURATE ENVIROMENTAL LAB</td>\n",
              "      <td>06/20/2014 12:00:00 AM</td>\n",
              "      <td>06/23/2014 12:00:00 AM</td>\n",
              "      <td>BUSINESS SERVICES NOT ELSEWHERE CLASSIFIED</td>\n",
              "      <td>442455</td>\n",
              "      <td>eCardholder</td>\n",
              "    </tr>\n",
              "    <tr>\n",
              "      <th>442456</th>\n",
              "      <td>201406</td>\n",
              "      <td>98000</td>\n",
              "      <td>GRAND RIVER DAM AUTH.</td>\n",
              "      <td>Cardholder</td>\n",
              "      <td>e</td>\n",
              "      <td>GENERAL PURCHASE</td>\n",
              "      <td>32457.00</td>\n",
              "      <td>RED BUD SERVICE INC</td>\n",
              "      <td>06/19/2014 12:00:00 AM</td>\n",
              "      <td>06/23/2014 12:00:00 AM</td>\n",
              "      <td>PROFESSIONAL SERVICES NOT ELSEWHERE CLASSIFIED</td>\n",
              "      <td>442456</td>\n",
              "      <td>eCardholder</td>\n",
              "    </tr>\n",
              "    <tr>\n",
              "      <th>442457</th>\n",
              "      <td>201406</td>\n",
              "      <td>98000</td>\n",
              "      <td>GRAND RIVER DAM AUTH.</td>\n",
              "      <td>Cardholder</td>\n",
              "      <td>e</td>\n",
              "      <td>GENERAL PURCHASE</td>\n",
              "      <td>4714.07</td>\n",
              "      <td>WARRENCAT CREDIT DEPT</td>\n",
              "      <td>06/20/2014 12:00:00 AM</td>\n",
              "      <td>06/23/2014 12:00:00 AM</td>\n",
              "      <td>MISCELLANEOUS AND SPECIALTY RETAIL STORES</td>\n",
              "      <td>442457</td>\n",
              "      <td>eCardholder</td>\n",
              "    </tr>\n",
              "  </tbody>\n",
              "</table>\n",
              "<p>442458 rows × 13 columns</p>\n",
              "</div>"
            ],
            "text/plain": [
              "        Year-Month  Agency Number  ... transaction_id          userId\n",
              "0           201307           1000  ...              0          CMason\n",
              "1           201307           1000  ...              1          CMason\n",
              "2           201307           1000  ...              2         JMassey\n",
              "3           201307           1000  ...              3         TMassey\n",
              "4           201307           1000  ...              4  MMauro-Herrera\n",
              "...            ...            ...  ...            ...             ...\n",
              "442453      201406          98000  ...         442453     eCardholder\n",
              "442454      201406          98000  ...         442454     eCardholder\n",
              "442455      201406          98000  ...         442455     eCardholder\n",
              "442456      201406          98000  ...         442456     eCardholder\n",
              "442457      201406          98000  ...         442457     eCardholder\n",
              "\n",
              "[442458 rows x 13 columns]"
            ]
          },
          "metadata": {
            "tags": []
          },
          "execution_count": 10
        }
      ]
    },
    {
      "cell_type": "code",
      "metadata": {
        "id": "0fN-tJMbWCJv"
      },
      "source": [
        "from datetime import datetime, timedelta"
      ],
      "execution_count": null,
      "outputs": []
    },
    {
      "cell_type": "code",
      "metadata": {
        "id": "OxEBngrCq2Sc",
        "colab": {
          "base_uri": "https://localhost:8080/",
          "height": 47
        },
        "outputId": "7dcef22c-bfc3-4060-d827-4c3e751911fa"
      },
      "source": [
        "transcations[transcations.Amount == 0]"
      ],
      "execution_count": null,
      "outputs": [
        {
          "output_type": "execute_result",
          "data": {
            "text/html": [
              "<div>\n",
              "<style scoped>\n",
              "    .dataframe tbody tr th:only-of-type {\n",
              "        vertical-align: middle;\n",
              "    }\n",
              "\n",
              "    .dataframe tbody tr th {\n",
              "        vertical-align: top;\n",
              "    }\n",
              "\n",
              "    .dataframe thead th {\n",
              "        text-align: right;\n",
              "    }\n",
              "</style>\n",
              "<table border=\"1\" class=\"dataframe\">\n",
              "  <thead>\n",
              "    <tr style=\"text-align: right;\">\n",
              "      <th></th>\n",
              "      <th>Year-Month</th>\n",
              "      <th>Agency Number</th>\n",
              "      <th>Agency Name</th>\n",
              "      <th>Cardholder Last Name</th>\n",
              "      <th>Cardholder First Initial</th>\n",
              "      <th>Description</th>\n",
              "      <th>Amount</th>\n",
              "      <th>Vendor</th>\n",
              "      <th>Transaction Date</th>\n",
              "      <th>Posted Date</th>\n",
              "      <th>Merchant Category Code (MCC)</th>\n",
              "      <th>transaction_id</th>\n",
              "      <th>userId</th>\n",
              "    </tr>\n",
              "  </thead>\n",
              "  <tbody>\n",
              "  </tbody>\n",
              "</table>\n",
              "</div>"
            ],
            "text/plain": [
              "Empty DataFrame\n",
              "Columns: [Year-Month, Agency Number, Agency Name, Cardholder Last Name, Cardholder First Initial, Description, Amount, Vendor, Transaction Date, Posted Date, Merchant Category Code (MCC), transaction_id, userId]\n",
              "Index: []"
            ]
          },
          "metadata": {
            "tags": []
          },
          "execution_count": 12
        }
      ]
    },
    {
      "cell_type": "code",
      "metadata": {
        "id": "Y5xhQSAC3eKR"
      },
      "source": [
        "transcations['Transaction Date'] = pd.to_datetime(transcations['Transaction Date'], format='%m/%d/%Y %H:%M:%S %p')"
      ],
      "execution_count": null,
      "outputs": []
    },
    {
      "cell_type": "code",
      "metadata": {
        "id": "L6xUYmD5US98"
      },
      "source": [
        "def txn_amount_over_month(double_col):\n",
        "  #print(row11)\n",
        "  #tr_start = row[8]\n",
        "  #start = datetime.strptime(row8, \"%m/%d/%Y %H:%M:%S %p\") #string to date\n",
        "  end = double_col[0] - timedelta(days=30)\n",
        "  temp_df = transcations[(transcations.userId == double_col[1] ) & (transcations['Transaction Date'] >= end ) ]\n",
        "  #print(temp_df)\n",
        "  #amount_total = temp_df.Amount.sum()\n",
        "  if len(temp_df) == 0:\n",
        "    return 0\n",
        "  return (temp_df.Amount.sum()) / len(temp_df)\n"
      ],
      "execution_count": null,
      "outputs": []
    },
    {
      "cell_type": "code",
      "metadata": {
        "id": "KHailZ-jhAOG"
      },
      "source": [
        "def average_over_3_months(row):\n",
        "  tr_start = row[8]\n",
        "  start = datetime.strptime(tr_start, \"%m/%d/%Y %H:%M:%S %p\") #string to date\n",
        "  end = start - timedelta(days=90)\n",
        "  temp_df = transcations[(transcations.userId == row[12]) & (pd.to_datetime(transcations['Transaction Date'], format='%m/%d/%Y %H:%M:%S %p') >= end ) ]\n",
        "  #print(temp_df)\n",
        "  if len(temp_df) == 0:\n",
        "    return 0\n",
        "  amount_total = temp_df.Amount.sum()\n",
        "  return amount_total / 12"
      ],
      "execution_count": null,
      "outputs": []
    },
    {
      "cell_type": "code",
      "metadata": {
        "id": "GLiwhlEgiNA6"
      },
      "source": [
        "def average_daily_over_month(row):\n",
        "  tr_start = row[8]\n",
        "  start = datetime.strptime(tr_start, \"%m/%d/%Y %H:%M:%S %p\") #string to date\n",
        "  end = start - timedelta(days=30)\n",
        "  temp_df = transcations[(transcations.userId == row[12]) & (pd.to_datetime(transcations['Transaction Date'], format='%m/%d/%Y %H:%M:%S %p') >= end ) ]\n",
        "  #print(temp_df)\n",
        "  if len(temp_df) == 0:\n",
        "    return 0\n",
        "  amount_total = temp_df.Amount.sum()\n",
        "  return amount_total / 30"
      ],
      "execution_count": null,
      "outputs": []
    },
    {
      "cell_type": "code",
      "metadata": {
        "id": "zLw_epS1iZaZ"
      },
      "source": [
        "def amount_merchant_type_over_month(row):\n",
        "  tr_start = row[8]\n",
        "  merchant = row[10]\n",
        "  start = datetime.strptime(tr_start, \"%m/%d/%Y %H:%M:%S %p\") #string to date\n",
        "  end = start - timedelta(days=30)\n",
        "  temp_df = transcations[(transcations.userId == row[12]) & (pd.to_datetime(transcations['Transaction Date'], format='%m/%d/%Y %H:%M:%S %p') >= end ) & (transcations['Merchant Category Code (MCC)'] == merchant)]\n",
        "  #print(temp_df)\n",
        "  if len(temp_df) == 0:\n",
        "    return 0\n",
        "  amount_total = temp_df.Amount.sum()\n",
        "  return amount_total / 30"
      ],
      "execution_count": null,
      "outputs": []
    },
    {
      "cell_type": "code",
      "metadata": {
        "id": "rNsmxOrqj0vG"
      },
      "source": [
        "def number_merchant_type_over_month(row):\n",
        "  tr_start = row[8]\n",
        "  merchant = row[10]\n",
        "  start = datetime.strptime(tr_start, \"%m/%d/%Y %H:%M:%S %p\") #string to date\n",
        "  end = start - timedelta(days=30)\n",
        "  temp_df = transcations[(transcations.userId == row[12]) & (pd.to_datetime(transcations['Transaction Date'], format='%m/%d/%Y %H:%M:%S %p') >= end ) & (transcations['Merchant Category Code (MCC)'] == merchant)]\n",
        "  #print(temp_df)\n",
        "  #amount_total = temp_df.Amount.sum()\n",
        "  return len(temp_df)"
      ],
      "execution_count": null,
      "outputs": []
    },
    {
      "cell_type": "code",
      "metadata": {
        "id": "RlrRjJs8kQLY"
      },
      "source": [
        "def amount_merchant_type_over_3_month(row):\n",
        "  print(row[])\n",
        "  tr_start = row[8]\n",
        "  merchant = row[10]\n",
        "  start = datetime.strptime(tr_start, \"%m/%d/%Y %H:%M:%S %p\") #string to date\n",
        "  end = start - timedelta(days=90)\n",
        "  temp_df = transcations[(transcations.userId == row[12]) & (pd.to_datetime(transcations['Transaction Date'], format='%m/%d/%Y %H:%M:%S %p') >= end ) & (transcations['Merchant Category Code (MCC)'] == merchant)]\n",
        "  #print(temp_df)\n",
        "  if len(temp_df) == 0:\n",
        "    return 0\n",
        "  amount_total = temp_df.Amount.sum()\n",
        "  return amount_total / 12"
      ],
      "execution_count": null,
      "outputs": []
    },
    {
      "cell_type": "code",
      "metadata": {
        "id": "m6kxyfZnsNEs",
        "colab": {
          "base_uri": "https://localhost:8080/",
          "height": 105
        },
        "outputId": "71cc8229-44e6-443f-9279-b392a1065855"
      },
      "source": [
        "#@title Default title text\n",
        "trf = transcations.head()\n",
        "a = trf.apply(txn_amount_over_month, axis=1)"
      ],
      "execution_count": null,
      "outputs": [
        {
          "output_type": "stream",
          "text": [
            "0\n",
            "1\n",
            "2\n",
            "3\n",
            "4\n"
          ],
          "name": "stdout"
        }
      ]
    },
    {
      "cell_type": "code",
      "metadata": {
        "id": "zeDGjZ8oqf7U",
        "colab": {
          "base_uri": "https://localhost:8080/",
          "height": 123
        },
        "outputId": "2106e039-0f25-4ab8-a698-818c30c9d481"
      },
      "source": [
        "a"
      ],
      "execution_count": null,
      "outputs": [
        {
          "output_type": "execute_result",
          "data": {
            "text/plain": [
              "0    254.801018\n",
              "1    254.801018\n",
              "2    434.824266\n",
              "3    361.494855\n",
              "4     93.818028\n",
              "dtype: float64"
            ]
          },
          "metadata": {
            "tags": []
          },
          "execution_count": 32
        }
      ]
    },
    {
      "cell_type": "code",
      "metadata": {
        "id": "phgII4plSqgd",
        "colab": {
          "base_uri": "https://localhost:8080/",
          "height": 194
        },
        "outputId": "65fdbaff-fd64-4d5c-9d02-71affa1947c1"
      },
      "source": [
        "pip install pandarallel"
      ],
      "execution_count": null,
      "outputs": [
        {
          "output_type": "stream",
          "text": [
            "Collecting pandarallel\n",
            "  Downloading https://files.pythonhosted.org/packages/99/06/bd582106766c483d6da51c05b0cdd7cb61894bb843c7ecc4789032232327/pandarallel-1.4.8.tar.gz\n",
            "Requirement already satisfied: dill in /usr/local/lib/python3.6/dist-packages (from pandarallel) (0.3.2)\n",
            "Building wheels for collected packages: pandarallel\n",
            "  Building wheel for pandarallel (setup.py) ... \u001b[?25l\u001b[?25hdone\n",
            "  Created wheel for pandarallel: filename=pandarallel-1.4.8-cp36-none-any.whl size=16112 sha256=1d7f3a2fbc19a204d39c9c3b9a42ba76f3799e8f13a63bd6bf3e2d14fc088933\n",
            "  Stored in directory: /root/.cache/pip/wheels/75/a2/85/b45be2e86d86e9ec5da6d05c4b994d18c81abe76e3f39415aa\n",
            "Successfully built pandarallel\n",
            "Installing collected packages: pandarallel\n",
            "Successfully installed pandarallel-1.4.8\n"
          ],
          "name": "stdout"
        }
      ]
    },
    {
      "cell_type": "code",
      "metadata": {
        "id": "hGE7Zd5dSg5f"
      },
      "source": [
        "from pandarallel import pandarallel"
      ],
      "execution_count": null,
      "outputs": []
    },
    {
      "cell_type": "code",
      "metadata": {
        "id": "PePCOTxfSu6p",
        "colab": {
          "base_uri": "https://localhost:8080/",
          "height": 52
        },
        "outputId": "93a231df-0508-4022-d06e-01b1986c2d03"
      },
      "source": [
        "pandarallel.initialize()"
      ],
      "execution_count": null,
      "outputs": [
        {
          "output_type": "stream",
          "text": [
            "INFO: Pandarallel will run on 2 workers.\n",
            "INFO: Pandarallel will use Memory file system to transfer data between the main process and workers.\n"
          ],
          "name": "stdout"
        }
      ]
    },
    {
      "cell_type": "code",
      "metadata": {
        "id": "V3_MPkOWqsml",
        "colab": {
          "base_uri": "https://localhost:8080/",
          "height": 1000
        },
        "outputId": "3cac7696-3469-487d-cd5d-cc849eaaf480"
      },
      "source": [
        "pip install swifter"
      ],
      "execution_count": null,
      "outputs": [
        {
          "output_type": "stream",
          "text": [
            "Collecting swifter\n",
            "  Downloading https://files.pythonhosted.org/packages/bb/0f/f0a034ea6d77c29d5a38b34b804367fdc856161ef513f000c5037ec740b1/swifter-0.305-py3-none-any.whl\n",
            "Collecting psutil>=5.6.6\n",
            "\u001b[?25l  Downloading https://files.pythonhosted.org/packages/c4/b8/3512f0e93e0db23a71d82485ba256071ebef99b227351f0f5540f744af41/psutil-5.7.0.tar.gz (449kB)\n",
            "\u001b[K     |████████████████████████████████| 450kB 4.7MB/s \n",
            "\u001b[?25hRequirement already satisfied: pandas>=0.23.0 in /usr/local/lib/python3.6/dist-packages (from swifter) (1.0.5)\n",
            "Requirement already satisfied: tqdm>=4.33.0 in /usr/local/lib/python3.6/dist-packages (from swifter) (4.41.1)\n",
            "Requirement already satisfied: dask[complete]>=0.19.0 in /usr/local/lib/python3.6/dist-packages (from swifter) (2.12.0)\n",
            "Requirement already satisfied: ipywidgets>=7.0.0 in /usr/local/lib/python3.6/dist-packages (from swifter) (7.5.1)\n",
            "Requirement already satisfied: bleach>=3.1.1 in /usr/local/lib/python3.6/dist-packages (from swifter) (3.1.5)\n",
            "Requirement already satisfied: parso>0.4.0 in /usr/local/lib/python3.6/dist-packages (from swifter) (0.7.0)\n",
            "Requirement already satisfied: numpy>=1.13.3 in /usr/local/lib/python3.6/dist-packages (from pandas>=0.23.0->swifter) (1.18.5)\n",
            "Requirement already satisfied: python-dateutil>=2.6.1 in /usr/local/lib/python3.6/dist-packages (from pandas>=0.23.0->swifter) (2.8.1)\n",
            "Requirement already satisfied: pytz>=2017.2 in /usr/local/lib/python3.6/dist-packages (from pandas>=0.23.0->swifter) (2018.9)\n",
            "Collecting distributed>=2.0; extra == \"complete\"\n",
            "\u001b[?25l  Downloading https://files.pythonhosted.org/packages/1b/18/9b7a543349fe9a3ff1974cc329aa4f4affca6fd723e1bd3a3a65ace0d4f6/distributed-2.20.0-py3-none-any.whl (644kB)\n",
            "\u001b[K     |████████████████████████████████| 645kB 9.6MB/s \n",
            "\u001b[?25hRequirement already satisfied: cloudpickle>=0.2.1; extra == \"complete\" in /usr/local/lib/python3.6/dist-packages (from dask[complete]>=0.19.0->swifter) (1.3.0)\n",
            "Requirement already satisfied: bokeh>=1.0.0; extra == \"complete\" in /usr/local/lib/python3.6/dist-packages (from dask[complete]>=0.19.0->swifter) (1.4.0)\n",
            "Requirement already satisfied: fsspec>=0.6.0; extra == \"complete\" in /usr/local/lib/python3.6/dist-packages (from dask[complete]>=0.19.0->swifter) (0.7.4)\n",
            "Collecting partd>=0.3.10; extra == \"complete\"\n",
            "  Downloading https://files.pythonhosted.org/packages/44/e1/68dbe731c9c067655bff1eca5b7d40c20ca4b23fd5ec9f3d17e201a6f36b/partd-1.1.0-py3-none-any.whl\n",
            "Requirement already satisfied: toolz>=0.7.3; extra == \"complete\" in /usr/local/lib/python3.6/dist-packages (from dask[complete]>=0.19.0->swifter) (0.10.0)\n",
            "Requirement already satisfied: PyYaml; extra == \"complete\" in /usr/local/lib/python3.6/dist-packages (from dask[complete]>=0.19.0->swifter) (3.13)\n",
            "Requirement already satisfied: ipykernel>=4.5.1 in /usr/local/lib/python3.6/dist-packages (from ipywidgets>=7.0.0->swifter) (4.10.1)\n",
            "Requirement already satisfied: ipython>=4.0.0; python_version >= \"3.3\" in /usr/local/lib/python3.6/dist-packages (from ipywidgets>=7.0.0->swifter) (5.5.0)\n",
            "Requirement already satisfied: traitlets>=4.3.1 in /usr/local/lib/python3.6/dist-packages (from ipywidgets>=7.0.0->swifter) (4.3.3)\n",
            "Requirement already satisfied: nbformat>=4.2.0 in /usr/local/lib/python3.6/dist-packages (from ipywidgets>=7.0.0->swifter) (5.0.7)\n",
            "Requirement already satisfied: widgetsnbextension~=3.5.0 in /usr/local/lib/python3.6/dist-packages (from ipywidgets>=7.0.0->swifter) (3.5.1)\n",
            "Requirement already satisfied: packaging in /usr/local/lib/python3.6/dist-packages (from bleach>=3.1.1->swifter) (20.4)\n",
            "Requirement already satisfied: six>=1.9.0 in /usr/local/lib/python3.6/dist-packages (from bleach>=3.1.1->swifter) (1.12.0)\n",
            "Requirement already satisfied: webencodings in /usr/local/lib/python3.6/dist-packages (from bleach>=3.1.1->swifter) (0.5.1)\n",
            "Requirement already satisfied: zict>=0.1.3 in /usr/local/lib/python3.6/dist-packages (from distributed>=2.0; extra == \"complete\"->dask[complete]>=0.19.0->swifter) (2.0.0)\n",
            "Requirement already satisfied: msgpack>=0.6.0 in /usr/local/lib/python3.6/dist-packages (from distributed>=2.0; extra == \"complete\"->dask[complete]>=0.19.0->swifter) (1.0.0)\n",
            "Requirement already satisfied: click>=6.6 in /usr/local/lib/python3.6/dist-packages (from distributed>=2.0; extra == \"complete\"->dask[complete]>=0.19.0->swifter) (7.1.2)\n",
            "Requirement already satisfied: setuptools in /usr/local/lib/python3.6/dist-packages (from distributed>=2.0; extra == \"complete\"->dask[complete]>=0.19.0->swifter) (47.3.1)\n",
            "Collecting contextvars; python_version < \"3.7\"\n",
            "  Downloading https://files.pythonhosted.org/packages/83/96/55b82d9f13763be9d672622e1b8106c85acb83edd7cc2fa5bc67cd9877e9/contextvars-2.4.tar.gz\n",
            "Requirement already satisfied: tblib>=1.6.0 in /usr/local/lib/python3.6/dist-packages (from distributed>=2.0; extra == \"complete\"->dask[complete]>=0.19.0->swifter) (1.6.0)\n",
            "Collecting tornado>=5; python_version < \"3.8\"\n",
            "\u001b[?25l  Downloading https://files.pythonhosted.org/packages/95/84/119a46d494f008969bf0c775cb2c6b3579d3c4cc1bb1b41a022aa93ee242/tornado-6.0.4.tar.gz (496kB)\n",
            "\u001b[K     |████████████████████████████████| 501kB 17.1MB/s \n",
            "\u001b[?25hRequirement already satisfied: sortedcontainers!=2.0.0,!=2.0.1 in /usr/local/lib/python3.6/dist-packages (from distributed>=2.0; extra == \"complete\"->dask[complete]>=0.19.0->swifter) (2.2.2)\n",
            "Requirement already satisfied: Jinja2>=2.7 in /usr/local/lib/python3.6/dist-packages (from bokeh>=1.0.0; extra == \"complete\"->dask[complete]>=0.19.0->swifter) (2.11.2)\n",
            "Requirement already satisfied: pillow>=4.0 in /usr/local/lib/python3.6/dist-packages (from bokeh>=1.0.0; extra == \"complete\"->dask[complete]>=0.19.0->swifter) (7.0.0)\n",
            "Collecting locket\n",
            "  Downloading https://files.pythonhosted.org/packages/d0/22/3c0f97614e0be8386542facb3a7dcfc2584f7b83608c02333bced641281c/locket-0.2.0.tar.gz\n",
            "Requirement already satisfied: jupyter-client in /usr/local/lib/python3.6/dist-packages (from ipykernel>=4.5.1->ipywidgets>=7.0.0->swifter) (5.3.4)\n",
            "Requirement already satisfied: pickleshare in /usr/local/lib/python3.6/dist-packages (from ipython>=4.0.0; python_version >= \"3.3\"->ipywidgets>=7.0.0->swifter) (0.7.5)\n",
            "Requirement already satisfied: decorator in /usr/local/lib/python3.6/dist-packages (from ipython>=4.0.0; python_version >= \"3.3\"->ipywidgets>=7.0.0->swifter) (4.4.2)\n",
            "Requirement already satisfied: prompt-toolkit<2.0.0,>=1.0.4 in /usr/local/lib/python3.6/dist-packages (from ipython>=4.0.0; python_version >= \"3.3\"->ipywidgets>=7.0.0->swifter) (1.0.18)\n",
            "Requirement already satisfied: simplegeneric>0.8 in /usr/local/lib/python3.6/dist-packages (from ipython>=4.0.0; python_version >= \"3.3\"->ipywidgets>=7.0.0->swifter) (0.8.1)\n",
            "Requirement already satisfied: pexpect; sys_platform != \"win32\" in /usr/local/lib/python3.6/dist-packages (from ipython>=4.0.0; python_version >= \"3.3\"->ipywidgets>=7.0.0->swifter) (4.8.0)\n",
            "Requirement already satisfied: pygments in /usr/local/lib/python3.6/dist-packages (from ipython>=4.0.0; python_version >= \"3.3\"->ipywidgets>=7.0.0->swifter) (2.1.3)\n",
            "Requirement already satisfied: ipython-genutils in /usr/local/lib/python3.6/dist-packages (from traitlets>=4.3.1->ipywidgets>=7.0.0->swifter) (0.2.0)\n",
            "Requirement already satisfied: jupyter-core in /usr/local/lib/python3.6/dist-packages (from nbformat>=4.2.0->ipywidgets>=7.0.0->swifter) (4.6.3)\n",
            "Requirement already satisfied: jsonschema!=2.5.0,>=2.4 in /usr/local/lib/python3.6/dist-packages (from nbformat>=4.2.0->ipywidgets>=7.0.0->swifter) (2.6.0)\n",
            "Requirement already satisfied: notebook>=4.4.1 in /usr/local/lib/python3.6/dist-packages (from widgetsnbextension~=3.5.0->ipywidgets>=7.0.0->swifter) (5.2.2)\n",
            "Requirement already satisfied: pyparsing>=2.0.2 in /usr/local/lib/python3.6/dist-packages (from packaging->bleach>=3.1.1->swifter) (2.4.7)\n",
            "Requirement already satisfied: heapdict in /usr/local/lib/python3.6/dist-packages (from zict>=0.1.3->distributed>=2.0; extra == \"complete\"->dask[complete]>=0.19.0->swifter) (1.0.1)\n",
            "Collecting immutables>=0.9\n",
            "\u001b[?25l  Downloading https://files.pythonhosted.org/packages/99/e0/ea6fd4697120327d26773b5a84853f897a68e33d3f9376b00a8ff96e4f63/immutables-0.14-cp36-cp36m-manylinux1_x86_64.whl (98kB)\n",
            "\u001b[K     |████████████████████████████████| 102kB 8.1MB/s \n",
            "\u001b[?25hRequirement already satisfied: MarkupSafe>=0.23 in /usr/local/lib/python3.6/dist-packages (from Jinja2>=2.7->bokeh>=1.0.0; extra == \"complete\"->dask[complete]>=0.19.0->swifter) (1.1.1)\n",
            "Requirement already satisfied: pyzmq>=13 in /usr/local/lib/python3.6/dist-packages (from jupyter-client->ipykernel>=4.5.1->ipywidgets>=7.0.0->swifter) (19.0.1)\n",
            "Requirement already satisfied: wcwidth in /usr/local/lib/python3.6/dist-packages (from prompt-toolkit<2.0.0,>=1.0.4->ipython>=4.0.0; python_version >= \"3.3\"->ipywidgets>=7.0.0->swifter) (0.2.5)\n",
            "Requirement already satisfied: ptyprocess>=0.5 in /usr/local/lib/python3.6/dist-packages (from pexpect; sys_platform != \"win32\"->ipython>=4.0.0; python_version >= \"3.3\"->ipywidgets>=7.0.0->swifter) (0.6.0)\n",
            "Requirement already satisfied: terminado>=0.3.3; sys_platform != \"win32\" in /usr/local/lib/python3.6/dist-packages (from notebook>=4.4.1->widgetsnbextension~=3.5.0->ipywidgets>=7.0.0->swifter) (0.8.3)\n",
            "Requirement already satisfied: nbconvert in /usr/local/lib/python3.6/dist-packages (from notebook>=4.4.1->widgetsnbextension~=3.5.0->ipywidgets>=7.0.0->swifter) (5.6.1)\n",
            "Requirement already satisfied: mistune<2,>=0.8.1 in /usr/local/lib/python3.6/dist-packages (from nbconvert->notebook>=4.4.1->widgetsnbextension~=3.5.0->ipywidgets>=7.0.0->swifter) (0.8.4)\n",
            "Requirement already satisfied: defusedxml in /usr/local/lib/python3.6/dist-packages (from nbconvert->notebook>=4.4.1->widgetsnbextension~=3.5.0->ipywidgets>=7.0.0->swifter) (0.6.0)\n",
            "Requirement already satisfied: testpath in /usr/local/lib/python3.6/dist-packages (from nbconvert->notebook>=4.4.1->widgetsnbextension~=3.5.0->ipywidgets>=7.0.0->swifter) (0.4.4)\n",
            "Requirement already satisfied: pandocfilters>=1.4.1 in /usr/local/lib/python3.6/dist-packages (from nbconvert->notebook>=4.4.1->widgetsnbextension~=3.5.0->ipywidgets>=7.0.0->swifter) (1.4.2)\n",
            "Requirement already satisfied: entrypoints>=0.2.2 in /usr/local/lib/python3.6/dist-packages (from nbconvert->notebook>=4.4.1->widgetsnbextension~=3.5.0->ipywidgets>=7.0.0->swifter) (0.3)\n",
            "Building wheels for collected packages: psutil, contextvars, tornado, locket\n",
            "  Building wheel for psutil (setup.py) ... \u001b[?25l\u001b[?25hdone\n",
            "  Created wheel for psutil: filename=psutil-5.7.0-cp36-cp36m-linux_x86_64.whl size=272676 sha256=707188216c34c5aa95e78c2dcdb6167723dca8549385d288e1fb6cd6401cd368\n",
            "  Stored in directory: /root/.cache/pip/wheels/d7/69/b4/3200b95828d1f0ddb3cb5699083717f4fdbd9b4223d0644c57\n",
            "  Building wheel for contextvars (setup.py) ... \u001b[?25l\u001b[?25hdone\n",
            "  Created wheel for contextvars: filename=contextvars-2.4-cp36-none-any.whl size=7666 sha256=f87af2d4f8e12b7db188bfcef2531219f1142027e7ed73b78ab9cce0c03ab39c\n",
            "  Stored in directory: /root/.cache/pip/wheels/a5/7d/68/1ebae2668bda2228686e3c1cf16f2c2384cea6e9334ad5f6de\n",
            "  Building wheel for tornado (setup.py) ... \u001b[?25l\u001b[?25hdone\n",
            "  Created wheel for tornado: filename=tornado-6.0.4-cp36-cp36m-linux_x86_64.whl size=427630 sha256=740adb4a20791456a8857caf326e2c5e0c92e5e8ec507e960bdb718a81cdbc85\n",
            "  Stored in directory: /root/.cache/pip/wheels/93/84/2f/409c7b2bb3afc3aa727f7ee8787975e0793f74d1165f4d0104\n",
            "  Building wheel for locket (setup.py) ... \u001b[?25l\u001b[?25hdone\n",
            "  Created wheel for locket: filename=locket-0.2.0-cp36-none-any.whl size=4040 sha256=9f7a1221fe738e4dd6ad4a6fa93c4b61f446422cbef43b521b20acea94cc42b9\n",
            "  Stored in directory: /root/.cache/pip/wheels/26/1e/e8/4fa236ec931b1a0cdd61578e20d4934d7bf188858723b84698\n",
            "Successfully built psutil contextvars tornado locket\n",
            "Installing collected packages: psutil, swifter, immutables, contextvars, tornado, distributed, locket, partd\n",
            "  Found existing installation: psutil 5.4.8\n",
            "    Uninstalling psutil-5.4.8:\n",
            "      Successfully uninstalled psutil-5.4.8\n",
            "  Found existing installation: tornado 4.5.3\n",
            "    Uninstalling tornado-4.5.3:\n",
            "      Successfully uninstalled tornado-4.5.3\n",
            "  Found existing installation: distributed 1.25.3\n",
            "    Uninstalling distributed-1.25.3:\n",
            "      Successfully uninstalled distributed-1.25.3\n",
            "Successfully installed contextvars-2.4 distributed-2.20.0 immutables-0.14 locket-0.2.0 partd-1.1.0 psutil-5.7.0 swifter-0.305 tornado-6.0.4\n"
          ],
          "name": "stdout"
        },
        {
          "output_type": "display_data",
          "data": {
            "application/vnd.colab-display-data+json": {
              "pip_warning": {
                "packages": [
                  "psutil",
                  "tornado"
                ]
              }
            }
          },
          "metadata": {
            "tags": []
          }
        }
      ]
    },
    {
      "cell_type": "code",
      "metadata": {
        "id": "brpzR-QMrTAa"
      },
      "source": [
        "from multiprocessing import cpu_count"
      ],
      "execution_count": null,
      "outputs": []
    },
    {
      "cell_type": "code",
      "metadata": {
        "id": "t6KgjrJsrHR4",
        "colab": {
          "base_uri": "https://localhost:8080/",
          "height": 34
        },
        "outputId": "5078cbb1-7ec5-4d55-b9f1-844c2ed1cc2e"
      },
      "source": [
        "cpu_count()"
      ],
      "execution_count": null,
      "outputs": [
        {
          "output_type": "execute_result",
          "data": {
            "text/plain": [
              "2"
            ]
          },
          "metadata": {
            "tags": []
          },
          "execution_count": 37
        }
      ]
    },
    {
      "cell_type": "code",
      "metadata": {
        "id": "nxeE2dbg6ho3",
        "colab": {
          "base_uri": "https://localhost:8080/",
          "height": 407
        },
        "outputId": "176f8df9-a43c-481f-81c6-b73c14e31bca"
      },
      "source": [
        "transcations[['Transaction Date','userId']]"
      ],
      "execution_count": null,
      "outputs": [
        {
          "output_type": "execute_result",
          "data": {
            "text/html": [
              "<div>\n",
              "<style scoped>\n",
              "    .dataframe tbody tr th:only-of-type {\n",
              "        vertical-align: middle;\n",
              "    }\n",
              "\n",
              "    .dataframe tbody tr th {\n",
              "        vertical-align: top;\n",
              "    }\n",
              "\n",
              "    .dataframe thead th {\n",
              "        text-align: right;\n",
              "    }\n",
              "</style>\n",
              "<table border=\"1\" class=\"dataframe\">\n",
              "  <thead>\n",
              "    <tr style=\"text-align: right;\">\n",
              "      <th></th>\n",
              "      <th>Transaction Date</th>\n",
              "      <th>userId</th>\n",
              "    </tr>\n",
              "  </thead>\n",
              "  <tbody>\n",
              "    <tr>\n",
              "      <th>0</th>\n",
              "      <td>2013-07-30 12:00:00</td>\n",
              "      <td>CMason</td>\n",
              "    </tr>\n",
              "    <tr>\n",
              "      <th>1</th>\n",
              "      <td>2013-07-30 12:00:00</td>\n",
              "      <td>CMason</td>\n",
              "    </tr>\n",
              "    <tr>\n",
              "      <th>2</th>\n",
              "      <td>2013-07-29 12:00:00</td>\n",
              "      <td>JMassey</td>\n",
              "    </tr>\n",
              "    <tr>\n",
              "      <th>3</th>\n",
              "      <td>2013-07-30 12:00:00</td>\n",
              "      <td>TMassey</td>\n",
              "    </tr>\n",
              "    <tr>\n",
              "      <th>4</th>\n",
              "      <td>2013-07-30 12:00:00</td>\n",
              "      <td>MMauro-Herrera</td>\n",
              "    </tr>\n",
              "    <tr>\n",
              "      <th>...</th>\n",
              "      <td>...</td>\n",
              "      <td>...</td>\n",
              "    </tr>\n",
              "    <tr>\n",
              "      <th>442453</th>\n",
              "      <td>2014-06-20 12:00:00</td>\n",
              "      <td>eCardholder</td>\n",
              "    </tr>\n",
              "    <tr>\n",
              "      <th>442454</th>\n",
              "      <td>2014-06-20 12:00:00</td>\n",
              "      <td>eCardholder</td>\n",
              "    </tr>\n",
              "    <tr>\n",
              "      <th>442455</th>\n",
              "      <td>2014-06-20 12:00:00</td>\n",
              "      <td>eCardholder</td>\n",
              "    </tr>\n",
              "    <tr>\n",
              "      <th>442456</th>\n",
              "      <td>2014-06-19 12:00:00</td>\n",
              "      <td>eCardholder</td>\n",
              "    </tr>\n",
              "    <tr>\n",
              "      <th>442457</th>\n",
              "      <td>2014-06-20 12:00:00</td>\n",
              "      <td>eCardholder</td>\n",
              "    </tr>\n",
              "  </tbody>\n",
              "</table>\n",
              "<p>442458 rows × 2 columns</p>\n",
              "</div>"
            ],
            "text/plain": [
              "          Transaction Date          userId\n",
              "0      2013-07-30 12:00:00          CMason\n",
              "1      2013-07-30 12:00:00          CMason\n",
              "2      2013-07-29 12:00:00         JMassey\n",
              "3      2013-07-30 12:00:00         TMassey\n",
              "4      2013-07-30 12:00:00  MMauro-Herrera\n",
              "...                    ...             ...\n",
              "442453 2014-06-20 12:00:00     eCardholder\n",
              "442454 2014-06-20 12:00:00     eCardholder\n",
              "442455 2014-06-20 12:00:00     eCardholder\n",
              "442456 2014-06-19 12:00:00     eCardholder\n",
              "442457 2014-06-20 12:00:00     eCardholder\n",
              "\n",
              "[442458 rows x 2 columns]"
            ]
          },
          "metadata": {
            "tags": []
          },
          "execution_count": 18
        }
      ]
    },
    {
      "cell_type": "code",
      "metadata": {
        "id": "GXRsHlzUZ1CB"
      },
      "source": [
        "transcations['txn_amount_over_month'] = transcations[['Transaction Date','userId']].parallel_apply(txn_amount_over_month, axis=1)"
      ],
      "execution_count": null,
      "outputs": []
    },
    {
      "cell_type": "code",
      "metadata": {
        "id": "aenLQQHD-mOZ"
      },
      "source": [
        "from datetime import datetime\n",
        "print(datetime.now())ıı"
      ],
      "execution_count": null,
      "outputs": []
    },
    {
      "cell_type": "code",
      "metadata": {
        "id": "vQdJwN-wwcVr"
      },
      "source": [
        "transcations['average_over_3_months'] = transcations.apply(lambda row: average_over_3_months(row), axis=1)"
      ],
      "execution_count": null,
      "outputs": []
    },
    {
      "cell_type": "code",
      "metadata": {
        "id": "OiJdxs5YwjDl"
      },
      "source": [
        "transcations['average_daily_over_month'] = transcations.apply(lambda row: average_daily_over_month(row), axis=1)"
      ],
      "execution_count": null,
      "outputs": []
    },
    {
      "cell_type": "code",
      "metadata": {
        "id": "T2Ib0W96wk1A"
      },
      "source": [
        "transcations['amount_merchant_type_over_month'] = transcations.apply(lambda row: amount_merchant_type_over_month(row), axis=1)"
      ],
      "execution_count": null,
      "outputs": []
    },
    {
      "cell_type": "code",
      "metadata": {
        "id": "_UjtIq82wy7j"
      },
      "source": [
        "transcations['number_merchant_type_over_month'] = transcations.apply(lambda row: number_merchant_type_over_month(row), axis=1)"
      ],
      "execution_count": null,
      "outputs": []
    },
    {
      "cell_type": "code",
      "metadata": {
        "id": "4MqTMxUQw3xo"
      },
      "source": [
        "transcations['amount_merchant_type_over_3_month'] = transcations.apply(lambda row: amount_merchant_type_over_3_month(row), axis=1)"
      ],
      "execution_count": null,
      "outputs": []
    },
    {
      "cell_type": "code",
      "metadata": {
        "id": "_79QL4m0nCEc"
      },
      "source": [
        "transcations.to_csv('transactionsPart1.csv',sep=';')"
      ],
      "execution_count": null,
      "outputs": []
    },
    {
      "cell_type": "code",
      "metadata": {
        "id": "BDqBd4EqE24j"
      },
      "source": [
        "!pip install -U -q PyDrive\n",
        "from pydrive.auth import GoogleAuth\n",
        "from pydrive.drive import GoogleDrive\n",
        "from google.colab import auth\n",
        "from google.colab import files\n",
        "from oauth2client.client import GoogleCredentials\n",
        "\n",
        "\"\"\"\n",
        "auth.authenticate_user()\n",
        "gauth = GoogleAuth()\n",
        "gauth.credentials = GoogleCredentials.get_application_default()\n",
        "drive = GoogleDrive(gauth)\n",
        "\"\"\""
      ],
      "execution_count": null,
      "outputs": []
    },
    {
      "cell_type": "code",
      "metadata": {
        "id": "wMiuYvxL-7kS"
      },
      "source": [
        "file3 = drive.CreateFile({'parents':[{u'id': 'xxxxxxx'}]})\n",
        "file3.SetContentFile(\"transactionsPart1.csv\")\n",
        "file3.Upload()"
      ],
      "execution_count": null,
      "outputs": []
    },
    {
      "cell_type": "code",
      "metadata": {
        "id": "MKdYFuNBw_zL"
      },
      "source": [
        ""
      ],
      "execution_count": null,
      "outputs": []
    },
    {
      "cell_type": "code",
      "metadata": {
        "id": "CUdLdPwokSyd"
      },
      "source": [
        "transaction_group = transcations.sort_values(by=['userId','Transaction Date'], ascending=True).groupby(by='userId')['Amount'][]"
      ],
      "execution_count": null,
      "outputs": []
    },
    {
      "cell_type": "code",
      "metadata": {
        "id": "kLkasb0Yjs9W"
      },
      "source": [
        "transcations.groupby('Vendor') \\\n",
        "    .count()['transaction_id'] \\\n",
        "    .plot(kind='barh',\n",
        "          title='Distribution')"
      ],
      "execution_count": null,
      "outputs": []
    },
    {
      "cell_type": "code",
      "metadata": {
        "id": "JROihQEhFHox",
        "colab": {
          "base_uri": "https://localhost:8080/",
          "height": 225
        },
        "outputId": "8377a375-52a3-4eab-a66b-1039951f6e56"
      },
      "source": [
        "transcations[\"Description\"].drop_duplicates()"
      ],
      "execution_count": null,
      "outputs": [
        {
          "output_type": "execute_result",
          "data": {
            "text/plain": [
              "0                                          GENERAL PURCHASE\n",
              "1                                              ROOM CHARGES\n",
              "4                              HAMMERMILL COPY PLUS COPY EA\n",
              "9                                  AT&T SERVICE PAYMENT ITM\n",
              "13        50-LB PLAY SAND BAG|20 QT POTTING SOIL TIMBERL EA\n",
              "                                ...                        \n",
              "442433    MACL J1059 THIMBLE OPEN EA|MACL J1088 1-3/4 RN...\n",
              "442435    1213188StainlessSteelFinis EA|3816x3YellowZinc...\n",
              "442439                        1812PipeCapacity2853Height EA\n",
              "442440                            Grease GunCordless18V1 EA\n",
              "442452    FUEL PUMP EA|FUEL PUMP GASKET EA|CLAMP 5 EA|CO...\n",
              "Name: Description, Length: 88749, dtype: object"
            ]
          },
          "metadata": {
            "tags": []
          },
          "execution_count": 9
        }
      ]
    },
    {
      "cell_type": "code",
      "metadata": {
        "id": "xE3qthixD1R9",
        "colab": {
          "base_uri": "https://localhost:8080/",
          "height": 34
        },
        "outputId": "5eca2449-05ba-432e-a6a0-839e0650afeb"
      },
      "source": [
        "transcations[\"Vendor\"].drop_duplicates().count()"
      ],
      "execution_count": null,
      "outputs": [
        {
          "output_type": "execute_result",
          "data": {
            "text/plain": [
              "86729"
            ]
          },
          "metadata": {
            "tags": []
          },
          "execution_count": 10
        }
      ]
    },
    {
      "cell_type": "code",
      "metadata": {
        "id": "NNG3eHpmETJR",
        "colab": {
          "base_uri": "https://localhost:8080/",
          "height": 225
        },
        "outputId": "d4526f38-edd7-4e39-8e52-ddb25456b3e7"
      },
      "source": [
        "transcations[\"Agency Name\"].drop_duplicates()"
      ],
      "execution_count": null,
      "outputs": [
        {
          "output_type": "execute_result",
          "data": {
            "text/plain": [
              "0                        OKLAHOMA STATE UNIVERSITY\n",
              "65438                   OKLAHOMA ACCOUNTANCY BOARD\n",
              "65525                   OKLAHOMA ABSTRACTORS BOARD\n",
              "65529                 OKLAHOMA MILITARY DEPARTMENT\n",
              "68803                 BOLL WEEVIL ERADICATION ORG.\n",
              "                            ...                   \n",
              "318634      UNIVERSITY CENTER OF SOUTHERN OKLAHOMA\n",
              "364645                   WORKER'S COMP. COMMISSION\n",
              "395227          ST BD OF COSMETOLOGY AND BARBERING\n",
              "395967    OFFICE OF EDUC. QUALITY & ACCOUNTABILITY\n",
              "406053             BD. OF PRIV. VOCATIONAL SCHOOLS\n",
              "Name: Agency Name, Length: 124, dtype: object"
            ]
          },
          "metadata": {
            "tags": []
          },
          "execution_count": 8
        }
      ]
    },
    {
      "cell_type": "code",
      "metadata": {
        "id": "lq9ggNWSmKeX",
        "colab": {
          "base_uri": "https://localhost:8080/",
          "height": 34
        },
        "outputId": "ec1ff03a-1cd3-4448-fce8-2751127094a0"
      },
      "source": [
        "transcations[\"Merchant Category Code (MCC)\"].drop_duplicates().count()"
      ],
      "execution_count": null,
      "outputs": [
        {
          "output_type": "execute_result",
          "data": {
            "text/plain": [
              "435"
            ]
          },
          "metadata": {
            "tags": []
          },
          "execution_count": 12
        }
      ]
    }
  ]
}