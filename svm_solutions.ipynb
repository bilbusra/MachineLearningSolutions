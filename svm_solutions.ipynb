{
  "nbformat": 4,
  "nbformat_minor": 0,
  "metadata": {
    "colab": {
      "name": "svm_solutions.ipynb",
      "provenance": [],
      "toc_visible": true
    },
    "kernelspec": {
      "name": "python3",
      "display_name": "Python 3"
    },
    "language_info": {
      "name": "python"
    }
  },
  "cells": [
    {
      "cell_type": "code",
      "metadata": {
        "id": "s4YLYkmKj3bG"
      },
      "source": [
        "from sklearn.svm import LinearSVC\n",
        "from sklearn import svm\n",
        "from sklearn.pipeline import make_pipeline\n",
        "from sklearn.preprocessing import StandardScaler\n",
        "from sklearn.datasets import make_classification\n",
        "import numpy as np"
      ],
      "execution_count": 15,
      "outputs": []
    },
    {
      "cell_type": "code",
      "metadata": {
        "id": "-Vtw5fSnjsdE"
      },
      "source": [
        "group1 = [[0.067, 0.21], [0.092, 0.21], \n",
        "  [0.294, 0.445], [0.227, 0.521], [0.185, 0.597], \n",
        "  [0.185, 0.689], [0.235, 0.748], [0.319, 0.773], \n",
        "  [0.387, 0.739], [0.437, 0.672], [0.496, 0.739],\n",
        "  [0.571, 0.773], [0.639, 0.765], [0.765, 0.924],\n",
        "  [0.807, 0.933], [0.849, 0.941]]\n",
        "group2 = [[0.118, 0.143], [0.118, 0.176], \n",
        "  [0.345, 0.378], [0.395, 0.319], [0.437, 0.261],\n",
        "  [0.496, 0.328], [0.546, 0.395], [0.605, 0.462],\n",
        "  [0.655, 0.529], [0.697, 0.597], [0.706, 0.664],\n",
        "  [0.681, 0.723], [0.849, 0.798], [0.857, 0.849],\n",
        "  [0.866, 0.899]]"
      ],
      "execution_count": 2,
      "outputs": []
    },
    {
      "cell_type": "code",
      "metadata": {
        "colab": {
          "base_uri": "https://localhost:8080/"
        },
        "id": "bTEJ-hVnlVBv",
        "outputId": "080c6148-921b-4b49-aaf5-4b22fffc13f9"
      },
      "source": [
        "np.array(group1)[:,0]"
      ],
      "execution_count": 11,
      "outputs": [
        {
          "output_type": "execute_result",
          "data": {
            "text/plain": [
              "array([0.067, 0.092, 0.294, 0.227, 0.185, 0.185, 0.235, 0.319, 0.387,\n",
              "       0.437, 0.496, 0.571, 0.639, 0.765, 0.807, 0.849])"
            ]
          },
          "metadata": {
            "tags": []
          },
          "execution_count": 11
        }
      ]
    },
    {
      "cell_type": "code",
      "metadata": {
        "id": "RbwJ0hSzj7Ly"
      },
      "source": [
        "import matplotlib.pyplot as plt"
      ],
      "execution_count": 12,
      "outputs": []
    },
    {
      "cell_type": "code",
      "metadata": {
        "colab": {
          "base_uri": "https://localhost:8080/",
          "height": 264
        },
        "id": "yyFVw8Hrl7u_",
        "outputId": "ad449e5e-0413-4591-b386-b9a3b474a53f"
      },
      "source": [
        "plt.scatter(np.array(group1)[:,0], np.array(group1)[:,1], c=\"red\")\n",
        "plt.scatter(np.array(group2)[:,0], np.array(group2)[:,1], c=\"blue\")\n",
        "\n",
        "plt.show()"
      ],
      "execution_count": 14,
      "outputs": [
        {
          "output_type": "display_data",
          "data": {
            "image/png": "[encoded data removed]",
            "text/plain": [
              "<Figure size 432x288 with 1 Axes>"
            ]
          },
          "metadata": {
            "tags": [],
            "needs_background": "light"
          }
        }
      ]
    },
    {
      "cell_type": "markdown",
      "metadata": {
        "id": "m0gOS6x7hLPF"
      },
      "source": [
        "# the line is like y = x + 0.05 but lets build a linear separator; lets say red ones are 1 and blue ones are 0 class, I will use pandas just to show you that I know Pandas"
      ]
    },
    {
      "cell_type": "markdown",
      "metadata": {
        "id": "x4oPkZGXllNp"
      },
      "source": [
        "I do not separate train and test sets for instance"
      ]
    },
    {
      "cell_type": "code",
      "metadata": {
        "id": "WGZwe-IRm5A3"
      },
      "source": [
        "y_group1 = np.zeros(np.array(group1).shape[0])\n",
        "y_group2 = np.ones(np.array(group2).shape[0])"
      ],
      "execution_count": 20,
      "outputs": []
    },
    {
      "cell_type": "code",
      "metadata": {
        "id": "Z1aX5wUnni7J"
      },
      "source": [
        "X = np.vstack((np.asarray(group1), np.asarray(group2)))"
      ],
      "execution_count": 29,
      "outputs": []
    },
    {
      "cell_type": "code",
      "metadata": {
        "colab": {
          "base_uri": "https://localhost:8080/"
        },
        "id": "zP0hqva6o3uY",
        "outputId": "f600c2b9-4b75-4841-a304-b1ef0b235de6"
      },
      "source": [
        "X"
      ],
      "execution_count": 30,
      "outputs": [
        {
          "output_type": "execute_result",
          "data": {
            "text/plain": [
              "array([[0.067, 0.21 ],\n",
              "       [0.092, 0.21 ],\n",
              "       [0.294, 0.445],\n",
              "       [0.227, 0.521],\n",
              "       [0.185, 0.597],\n",
              "       [0.185, 0.689],\n",
              "       [0.235, 0.748],\n",
              "       [0.319, 0.773],\n",
              "       [0.387, 0.739],\n",
              "       [0.437, 0.672],\n",
              "       [0.496, 0.739],\n",
              "       [0.571, 0.773],\n",
              "       [0.639, 0.765],\n",
              "       [0.765, 0.924],\n",
              "       [0.807, 0.933],\n",
              "       [0.849, 0.941],\n",
              "       [0.118, 0.143],\n",
              "       [0.118, 0.176],\n",
              "       [0.345, 0.378],\n",
              "       [0.395, 0.319],\n",
              "       [0.437, 0.261],\n",
              "       [0.496, 0.328],\n",
              "       [0.546, 0.395],\n",
              "       [0.605, 0.462],\n",
              "       [0.655, 0.529],\n",
              "       [0.697, 0.597],\n",
              "       [0.706, 0.664],\n",
              "       [0.681, 0.723],\n",
              "       [0.849, 0.798],\n",
              "       [0.857, 0.849],\n",
              "       [0.866, 0.899]])"
            ]
          },
          "metadata": {
            "tags": []
          },
          "execution_count": 30
        }
      ]
    },
    {
      "cell_type": "code",
      "metadata": {
        "id": "qvEBua78nPTO"
      },
      "source": [
        "y = np.hstack((y_group1, y_group2))"
      ],
      "execution_count": 32,
      "outputs": []
    },
    {
      "cell_type": "code",
      "metadata": {
        "colab": {
          "base_uri": "https://localhost:8080/"
        },
        "id": "isxnRiEHokP2",
        "outputId": "ebad3a3c-a9f7-488c-b939-12479f4e72c2"
      },
      "source": [
        "y"
      ],
      "execution_count": 28,
      "outputs": [
        {
          "output_type": "execute_result",
          "data": {
            "text/plain": [
              "array([0., 0., 0., 0., 0., 0., 0., 0., 0., 0., 0., 0., 0., 0., 0., 0., 1.,\n",
              "       1., 1., 1., 1., 1., 1., 1., 1., 1., 1., 1., 1., 1., 1.])"
            ]
          },
          "metadata": {
            "tags": []
          },
          "execution_count": 28
        }
      ]
    },
    {
      "cell_type": "code",
      "metadata": {
        "id": "1eMUyuizmxkp"
      },
      "source": [
        "import pandas as pd"
      ],
      "execution_count": 17,
      "outputs": []
    },
    {
      "cell_type": "code",
      "metadata": {
        "colab": {
          "base_uri": "https://localhost:8080/"
        },
        "id": "3elR_h5Zlkri",
        "outputId": "9d01f4b7-1862-4e86-bd84-5a1e8c946e9e"
      },
      "source": [
        "from sklearn.svm import SVC \n",
        "model = SVC(kernel='linear', C=10)\n",
        "model.fit(X, y)"
      ],
      "execution_count": 36,
      "outputs": [
        {
          "output_type": "execute_result",
          "data": {
            "text/plain": [
              "SVC(C=10, break_ties=False, cache_size=200, class_weight=None, coef0=0.0,\n",
              "    decision_function_shape='ovr', degree=3, gamma='scale', kernel='linear',\n",
              "    max_iter=-1, probability=False, random_state=None, shrinking=True,\n",
              "    tol=0.001, verbose=False)"
            ]
          },
          "metadata": {
            "tags": []
          },
          "execution_count": 36
        }
      ]
    },
    {
      "cell_type": "code",
      "metadata": {
        "colab": {
          "base_uri": "https://localhost:8080/",
          "height": 264
        },
        "id": "JJqMieW9p0af",
        "outputId": "91a3e31e-5b1b-40c9-b514-9d8cc1bafccb"
      },
      "source": [
        "plt.scatter(np.array(group1)[:,0], np.array(group1)[:,1], c=\"red\")\n",
        "plt.scatter(np.array(group2)[:,0], np.array(group2)[:,1], c=\"blue\")\n",
        "\n",
        "ax = plt.gca()\n",
        "xlim = ax.get_xlim()\n",
        "ylim = ax.get_ylim()\n",
        "\n",
        "xx, yy = np.meshgrid(np.linspace(xlim[0], xlim[1], 50), np.linspace(ylim[0], ylim[1], 50))\n",
        "Z = model.decision_function(np.c_[xx.ravel(), yy.ravel()])\n",
        "Z = Z.reshape(xx.shape)\n",
        "\n",
        "plt.contour(xx, yy, Z, colors='k', levels=[-1, 0, 1], alpha=0.5,linestyles=['--', '-', '--'])\n",
        "\n",
        "plt.scatter(model.support_vectors_[:, 0],model.support_vectors_[:, 1],s=300, linewidth=1, facecolors='none')\n",
        "plt.show()"
      ],
      "execution_count": 42,
      "outputs": [
        {
          "output_type": "display_data",
          "data": {
            "image/png": "[encoded data removed]",
            "text/plain": [
              "<Figure size 432x288 with 1 Axes>"
            ]
          },
          "metadata": {
            "tags": [],
            "needs_background": "light"
          }
        }
      ]
    },
    {
      "cell_type": "code",
      "metadata": {
        "colab": {
          "base_uri": "https://localhost:8080/"
        },
        "id": "UyIHl9uVrVHR",
        "outputId": "1b7c81fe-bf4d-47a4-837d-cb69606ed2fd"
      },
      "source": [
        "model.coef_"
      ],
      "execution_count": 44,
      "outputs": [
        {
          "output_type": "execute_result",
          "data": {
            "text/plain": [
              "array([[ 5.85768144, -6.36002679]])"
            ]
          },
          "metadata": {
            "tags": []
          },
          "execution_count": 44
        }
      ]
    }
  ]
}